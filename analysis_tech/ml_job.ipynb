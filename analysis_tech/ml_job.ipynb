{
 "cells": [
  {
   "cell_type": "code",
   "execution_count": 1,
   "metadata": {},
   "outputs": [
    {
     "data": {
      "text/plain": [
       "'c:\\\\Users\\\\h2est\\\\Desktop\\\\practice'"
      ]
     },
     "execution_count": 1,
     "metadata": {},
     "output_type": "execute_result"
    }
   ],
   "source": [
    "import warnings\n",
    "warnings.filterwarnings('ignore')\n",
    "\n",
    "# 현재 파일 디렉토리 확인하기\n",
    "import os\n",
    "os.getcwd()"
   ]
  },
  {
   "cell_type": "code",
   "execution_count": 2,
   "metadata": {},
   "outputs": [
    {
     "name": "stdout",
     "output_type": "stream",
     "text": [
      "File Name                                             Modified             Size\n",
      "tags.csv                                       2019-12-02 09:05:08        39834\n",
      "__MACOSX/                                      2019-12-02 09:07:36            0\n",
      "__MACOSX/._tags.csv                            2019-12-02 09:05:08          659\n",
      "job_companies.csv                              2019-11-30 05:54:28        52742\n",
      "__MACOSX/._job_companies.csv                   2019-11-30 05:54:28         2094\n",
      "job_tags.csv                                   2019-12-02 09:05:22       232970\n",
      "__MACOSX/._job_tags.csv                        2019-12-02 09:05:22          652\n",
      "train.csv                                      2019-11-30 06:15:52       408021\n",
      "__MACOSX/._train.csv                           2019-11-30 06:15:52          267\n",
      "user_tags.csv                                  2019-12-02 09:04:44      1152010\n",
      "__MACOSX/._user_tags.csv                       2019-12-02 09:04:44          661\n",
      "Files are unzipped in this folder!\n"
     ]
    }
   ],
   "source": [
    "# 압축된 데이터 파일 압축하기\n",
    "\n",
    "from zipfile import ZipFile\n",
    "\n",
    "file_dir = os.getcwd()\n",
    "test_file_name = \"train_job.zip\"\n",
    "\n",
    "with ZipFile(test_file_name, 'r') as zip_f:\n",
    "    zip_f.printdir()\n",
    "    # zip.extractall() \n",
    "    \n",
    "    FileNames = zip_f.namelist()\n",
    "    for fileName in FileNames:\n",
    "        if fileName.endswith('.csv'):\n",
    "            zip_f.extract(fileName, file_dir)\n",
    "    \n",
    "    print('Files are unzipped in this folder!')"
   ]
  },
  {
   "cell_type": "markdown",
   "metadata": {},
   "source": [
    "# 데이터 읽고 준비하기"
   ]
  },
  {
   "cell_type": "code",
   "execution_count": 3,
   "metadata": {},
   "outputs": [
    {
     "data": {
      "text/html": [
       "<div>\n",
       "<style scoped>\n",
       "    .dataframe tbody tr th:only-of-type {\n",
       "        vertical-align: middle;\n",
       "    }\n",
       "\n",
       "    .dataframe tbody tr th {\n",
       "        vertical-align: top;\n",
       "    }\n",
       "\n",
       "    .dataframe thead th {\n",
       "        text-align: right;\n",
       "    }\n",
       "</style>\n",
       "<table border=\"1\" class=\"dataframe\">\n",
       "  <thead>\n",
       "    <tr style=\"text-align: right;\">\n",
       "      <th></th>\n",
       "      <th>companyID</th>\n",
       "      <th>jobID</th>\n",
       "      <th>companySize</th>\n",
       "    </tr>\n",
       "  </thead>\n",
       "  <tbody>\n",
       "    <tr>\n",
       "      <th>0</th>\n",
       "      <td>00411460f7c92d2124a67ea0f4cb5f85</td>\n",
       "      <td>e5f6ad6ce374177eef023bf5d0c018b6</td>\n",
       "      <td>NaN</td>\n",
       "    </tr>\n",
       "    <tr>\n",
       "      <th>1</th>\n",
       "      <td>1905aedab9bf2477edc068a355bba31a</td>\n",
       "      <td>185e65bc40581880c4f2c82958de8cfe</td>\n",
       "      <td>11-50</td>\n",
       "    </tr>\n",
       "    <tr>\n",
       "      <th>2</th>\n",
       "      <td>89fcd07f20b6785b92134bd6c1d0fa42</td>\n",
       "      <td>0537fb40a68c18da59a35c2bfe1ca554</td>\n",
       "      <td>101-200</td>\n",
       "    </tr>\n",
       "    <tr>\n",
       "      <th>3</th>\n",
       "      <td>acf4b89d3d503d8252c9c4ba75ddbf6d</td>\n",
       "      <td>b7ee6f5f9aa5cd17ca1aea43ce848496</td>\n",
       "      <td>1-10</td>\n",
       "    </tr>\n",
       "    <tr>\n",
       "      <th>4</th>\n",
       "      <td>fb7b9ffa5462084c5f4e7e85a093e6d7</td>\n",
       "      <td>efe937780e95574250dabe07151bdc23</td>\n",
       "      <td>NaN</td>\n",
       "    </tr>\n",
       "  </tbody>\n",
       "</table>\n",
       "</div>"
      ],
      "text/plain": [
       "                          companyID                             jobID  \\\n",
       "0  00411460f7c92d2124a67ea0f4cb5f85  e5f6ad6ce374177eef023bf5d0c018b6   \n",
       "1  1905aedab9bf2477edc068a355bba31a  185e65bc40581880c4f2c82958de8cfe   \n",
       "2  89fcd07f20b6785b92134bd6c1d0fa42  0537fb40a68c18da59a35c2bfe1ca554   \n",
       "3  acf4b89d3d503d8252c9c4ba75ddbf6d  b7ee6f5f9aa5cd17ca1aea43ce848496   \n",
       "4  fb7b9ffa5462084c5f4e7e85a093e6d7  efe937780e95574250dabe07151bdc23   \n",
       "\n",
       "  companySize  \n",
       "0         NaN  \n",
       "1       11-50  \n",
       "2     101-200  \n",
       "3        1-10  \n",
       "4         NaN  "
      ]
     },
     "execution_count": 3,
     "metadata": {},
     "output_type": "execute_result"
    }
   ],
   "source": [
    "import pandas as pd\n",
    "job_comp = pd.read_csv('./job_companies.csv')\n",
    "job_comp.head()"
   ]
  },
  {
   "cell_type": "code",
   "execution_count": 4,
   "metadata": {},
   "outputs": [
    {
     "data": {
      "text/html": [
       "<div>\n",
       "<style scoped>\n",
       "    .dataframe tbody tr th:only-of-type {\n",
       "        vertical-align: middle;\n",
       "    }\n",
       "\n",
       "    .dataframe tbody tr th {\n",
       "        vertical-align: top;\n",
       "    }\n",
       "\n",
       "    .dataframe thead th {\n",
       "        text-align: right;\n",
       "    }\n",
       "</style>\n",
       "<table border=\"1\" class=\"dataframe\">\n",
       "  <thead>\n",
       "    <tr style=\"text-align: right;\">\n",
       "      <th></th>\n",
       "      <th>jobID</th>\n",
       "      <th>tagID</th>\n",
       "    </tr>\n",
       "  </thead>\n",
       "  <tbody>\n",
       "    <tr>\n",
       "      <th>0</th>\n",
       "      <td>320722549d1751cf3f247855f937b982</td>\n",
       "      <td>d38901788c533e8286cb6400b40b386d</td>\n",
       "    </tr>\n",
       "    <tr>\n",
       "      <th>1</th>\n",
       "      <td>e744f91c29ec99f0e662c9177946c627</td>\n",
       "      <td>3948ead63a9f2944218de038d8934305</td>\n",
       "    </tr>\n",
       "    <tr>\n",
       "      <th>2</th>\n",
       "      <td>e744f91c29ec99f0e662c9177946c627</td>\n",
       "      <td>0e095e054ee94774d6a496099eb1cf6a</td>\n",
       "    </tr>\n",
       "    <tr>\n",
       "      <th>3</th>\n",
       "      <td>e820a45f1dfc7b95282d10b6087e11c0</td>\n",
       "      <td>7d771e0e8f3633ab54856925ecdefc5d</td>\n",
       "    </tr>\n",
       "    <tr>\n",
       "      <th>4</th>\n",
       "      <td>e820a45f1dfc7b95282d10b6087e11c0</td>\n",
       "      <td>6c8dba7d0df1c4a79dd07646be9a26c8</td>\n",
       "    </tr>\n",
       "  </tbody>\n",
       "</table>\n",
       "</div>"
      ],
      "text/plain": [
       "                              jobID                             tagID\n",
       "0  320722549d1751cf3f247855f937b982  d38901788c533e8286cb6400b40b386d\n",
       "1  e744f91c29ec99f0e662c9177946c627  3948ead63a9f2944218de038d8934305\n",
       "2  e744f91c29ec99f0e662c9177946c627  0e095e054ee94774d6a496099eb1cf6a\n",
       "3  e820a45f1dfc7b95282d10b6087e11c0  7d771e0e8f3633ab54856925ecdefc5d\n",
       "4  e820a45f1dfc7b95282d10b6087e11c0  6c8dba7d0df1c4a79dd07646be9a26c8"
      ]
     },
     "execution_count": 4,
     "metadata": {},
     "output_type": "execute_result"
    }
   ],
   "source": [
    "job_tags = pd.read_csv('./job_tags.csv')\n",
    "job_tags.head()"
   ]
  },
  {
   "cell_type": "code",
   "execution_count": 5,
   "metadata": {},
   "outputs": [
    {
     "data": {
      "text/html": [
       "<div>\n",
       "<style scoped>\n",
       "    .dataframe tbody tr th:only-of-type {\n",
       "        vertical-align: middle;\n",
       "    }\n",
       "\n",
       "    .dataframe tbody tr th {\n",
       "        vertical-align: top;\n",
       "    }\n",
       "\n",
       "    .dataframe thead th {\n",
       "        text-align: right;\n",
       "    }\n",
       "</style>\n",
       "<table border=\"1\" class=\"dataframe\">\n",
       "  <thead>\n",
       "    <tr style=\"text-align: right;\">\n",
       "      <th></th>\n",
       "      <th>tagID</th>\n",
       "      <th>keyword</th>\n",
       "    </tr>\n",
       "  </thead>\n",
       "  <tbody>\n",
       "    <tr>\n",
       "      <th>0</th>\n",
       "      <td>602d1305678a8d5fdb372271e980da6a</td>\n",
       "      <td>Amazon Web Services(AWS)</td>\n",
       "    </tr>\n",
       "    <tr>\n",
       "      <th>1</th>\n",
       "      <td>e3251075554389fe91d17a794861d47b</td>\n",
       "      <td>Tensorflow</td>\n",
       "    </tr>\n",
       "    <tr>\n",
       "      <th>2</th>\n",
       "      <td>a1d50185e7426cbb0acad1e6ca74b9aa</td>\n",
       "      <td>Docker</td>\n",
       "    </tr>\n",
       "    <tr>\n",
       "      <th>3</th>\n",
       "      <td>884d79963bd8bc0ae9b13a1aa71add73</td>\n",
       "      <td>Git</td>\n",
       "    </tr>\n",
       "    <tr>\n",
       "      <th>4</th>\n",
       "      <td>4122cb13c7a474c1976c9706ae36521d</td>\n",
       "      <td>Python</td>\n",
       "    </tr>\n",
       "  </tbody>\n",
       "</table>\n",
       "</div>"
      ],
      "text/plain": [
       "                              tagID                   keyword\n",
       "0  602d1305678a8d5fdb372271e980da6a  Amazon Web Services(AWS)\n",
       "1  e3251075554389fe91d17a794861d47b                Tensorflow\n",
       "2  a1d50185e7426cbb0acad1e6ca74b9aa                    Docker\n",
       "3  884d79963bd8bc0ae9b13a1aa71add73                       Git\n",
       "4  4122cb13c7a474c1976c9706ae36521d                    Python"
      ]
     },
     "execution_count": 5,
     "metadata": {},
     "output_type": "execute_result"
    }
   ],
   "source": [
    "tags_df = pd.read_csv('./tags.csv')\n",
    "tags_df.head()"
   ]
  },
  {
   "cell_type": "code",
   "execution_count": 6,
   "metadata": {},
   "outputs": [
    {
     "data": {
      "text/html": [
       "<div>\n",
       "<style scoped>\n",
       "    .dataframe tbody tr th:only-of-type {\n",
       "        vertical-align: middle;\n",
       "    }\n",
       "\n",
       "    .dataframe tbody tr th {\n",
       "        vertical-align: top;\n",
       "    }\n",
       "\n",
       "    .dataframe thead th {\n",
       "        text-align: right;\n",
       "    }\n",
       "</style>\n",
       "<table border=\"1\" class=\"dataframe\">\n",
       "  <thead>\n",
       "    <tr style=\"text-align: right;\">\n",
       "      <th></th>\n",
       "      <th>userID</th>\n",
       "      <th>tagID</th>\n",
       "    </tr>\n",
       "  </thead>\n",
       "  <tbody>\n",
       "    <tr>\n",
       "      <th>0</th>\n",
       "      <td>e576423831e043f7928d9ac113abbe6f</td>\n",
       "      <td>82c2559140b95ccda9c6ca4a8b981f1e</td>\n",
       "    </tr>\n",
       "    <tr>\n",
       "      <th>1</th>\n",
       "      <td>e576423831e043f7928d9ac113abbe6f</td>\n",
       "      <td>2ba8698b79439589fdd2b0f7218d8b07</td>\n",
       "    </tr>\n",
       "    <tr>\n",
       "      <th>2</th>\n",
       "      <td>e576423831e043f7928d9ac113abbe6f</td>\n",
       "      <td>351b33587c5fdd93bd42ef7ac9995a28</td>\n",
       "    </tr>\n",
       "    <tr>\n",
       "      <th>3</th>\n",
       "      <td>e576423831e043f7928d9ac113abbe6f</td>\n",
       "      <td>81e5f81db77c596492e6f1a5a792ed53</td>\n",
       "    </tr>\n",
       "    <tr>\n",
       "      <th>4</th>\n",
       "      <td>e576423831e043f7928d9ac113abbe6f</td>\n",
       "      <td>0e095e054ee94774d6a496099eb1cf6a</td>\n",
       "    </tr>\n",
       "  </tbody>\n",
       "</table>\n",
       "</div>"
      ],
      "text/plain": [
       "                             userID                             tagID\n",
       "0  e576423831e043f7928d9ac113abbe6f  82c2559140b95ccda9c6ca4a8b981f1e\n",
       "1  e576423831e043f7928d9ac113abbe6f  2ba8698b79439589fdd2b0f7218d8b07\n",
       "2  e576423831e043f7928d9ac113abbe6f  351b33587c5fdd93bd42ef7ac9995a28\n",
       "3  e576423831e043f7928d9ac113abbe6f  81e5f81db77c596492e6f1a5a792ed53\n",
       "4  e576423831e043f7928d9ac113abbe6f  0e095e054ee94774d6a496099eb1cf6a"
      ]
     },
     "execution_count": 6,
     "metadata": {},
     "output_type": "execute_result"
    }
   ],
   "source": [
    "user_tags_df = pd.read_csv('./user_tags.csv')\n",
    "user_tags_df.head()"
   ]
  },
  {
   "cell_type": "code",
   "execution_count": 7,
   "metadata": {},
   "outputs": [
    {
     "data": {
      "text/html": [
       "<div>\n",
       "<style scoped>\n",
       "    .dataframe tbody tr th:only-of-type {\n",
       "        vertical-align: middle;\n",
       "    }\n",
       "\n",
       "    .dataframe tbody tr th {\n",
       "        vertical-align: top;\n",
       "    }\n",
       "\n",
       "    .dataframe thead th {\n",
       "        text-align: right;\n",
       "    }\n",
       "</style>\n",
       "<table border=\"1\" class=\"dataframe\">\n",
       "  <thead>\n",
       "    <tr style=\"text-align: right;\">\n",
       "      <th></th>\n",
       "      <th>companyID</th>\n",
       "      <th>jobID</th>\n",
       "      <th>companySize</th>\n",
       "      <th>tagID</th>\n",
       "      <th>keyword</th>\n",
       "      <th>userID</th>\n",
       "    </tr>\n",
       "  </thead>\n",
       "  <tbody>\n",
       "    <tr>\n",
       "      <th>0</th>\n",
       "      <td>00411460f7c92d2124a67ea0f4cb5f85</td>\n",
       "      <td>e5f6ad6ce374177eef023bf5d0c018b6</td>\n",
       "      <td>NaN</td>\n",
       "      <td>3948ead63a9f2944218de038d8934305</td>\n",
       "      <td>Node.js</td>\n",
       "      <td>788ecdd13f033f8131eecd90ee59993e</td>\n",
       "    </tr>\n",
       "    <tr>\n",
       "      <th>1</th>\n",
       "      <td>00411460f7c92d2124a67ea0f4cb5f85</td>\n",
       "      <td>e5f6ad6ce374177eef023bf5d0c018b6</td>\n",
       "      <td>NaN</td>\n",
       "      <td>3948ead63a9f2944218de038d8934305</td>\n",
       "      <td>Node.js</td>\n",
       "      <td>fdfa9a38cf3d8d850a6fd47b438bfe43</td>\n",
       "    </tr>\n",
       "    <tr>\n",
       "      <th>2</th>\n",
       "      <td>00411460f7c92d2124a67ea0f4cb5f85</td>\n",
       "      <td>e5f6ad6ce374177eef023bf5d0c018b6</td>\n",
       "      <td>NaN</td>\n",
       "      <td>3948ead63a9f2944218de038d8934305</td>\n",
       "      <td>Node.js</td>\n",
       "      <td>461beab646d4e7e0fd168125f577483b</td>\n",
       "    </tr>\n",
       "    <tr>\n",
       "      <th>3</th>\n",
       "      <td>00411460f7c92d2124a67ea0f4cb5f85</td>\n",
       "      <td>e5f6ad6ce374177eef023bf5d0c018b6</td>\n",
       "      <td>NaN</td>\n",
       "      <td>3948ead63a9f2944218de038d8934305</td>\n",
       "      <td>Node.js</td>\n",
       "      <td>eeedf6d4d717eba333e1b53f1b5375c8</td>\n",
       "    </tr>\n",
       "    <tr>\n",
       "      <th>4</th>\n",
       "      <td>00411460f7c92d2124a67ea0f4cb5f85</td>\n",
       "      <td>e5f6ad6ce374177eef023bf5d0c018b6</td>\n",
       "      <td>NaN</td>\n",
       "      <td>3948ead63a9f2944218de038d8934305</td>\n",
       "      <td>Node.js</td>\n",
       "      <td>a35af76a1c0bb174a3cfc66592804848</td>\n",
       "    </tr>\n",
       "  </tbody>\n",
       "</table>\n",
       "</div>"
      ],
      "text/plain": [
       "                          companyID                             jobID  \\\n",
       "0  00411460f7c92d2124a67ea0f4cb5f85  e5f6ad6ce374177eef023bf5d0c018b6   \n",
       "1  00411460f7c92d2124a67ea0f4cb5f85  e5f6ad6ce374177eef023bf5d0c018b6   \n",
       "2  00411460f7c92d2124a67ea0f4cb5f85  e5f6ad6ce374177eef023bf5d0c018b6   \n",
       "3  00411460f7c92d2124a67ea0f4cb5f85  e5f6ad6ce374177eef023bf5d0c018b6   \n",
       "4  00411460f7c92d2124a67ea0f4cb5f85  e5f6ad6ce374177eef023bf5d0c018b6   \n",
       "\n",
       "  companySize                             tagID  keyword  \\\n",
       "0         NaN  3948ead63a9f2944218de038d8934305  Node.js   \n",
       "1         NaN  3948ead63a9f2944218de038d8934305  Node.js   \n",
       "2         NaN  3948ead63a9f2944218de038d8934305  Node.js   \n",
       "3         NaN  3948ead63a9f2944218de038d8934305  Node.js   \n",
       "4         NaN  3948ead63a9f2944218de038d8934305  Node.js   \n",
       "\n",
       "                             userID  \n",
       "0  788ecdd13f033f8131eecd90ee59993e  \n",
       "1  fdfa9a38cf3d8d850a6fd47b438bfe43  \n",
       "2  461beab646d4e7e0fd168125f577483b  \n",
       "3  eeedf6d4d717eba333e1b53f1b5375c8  \n",
       "4  a35af76a1c0bb174a3cfc66592804848  "
      ]
     },
     "execution_count": 7,
     "metadata": {},
     "output_type": "execute_result"
    }
   ],
   "source": [
    "new_df = pd.merge(job_comp, job_tags, left_on='jobID', right_on='jobID')\n",
    "new_df1 = pd.merge(tags_df, user_tags_df, left_on='tagID', right_on='tagID')\n",
    "total_new_df = pd.merge(new_df, new_df1, left_on='tagID', right_on='tagID')\n",
    "total_new_df = total_new_df.drop_duplicates()\n",
    "total_new_df.head()"
   ]
  },
  {
   "cell_type": "code",
   "execution_count": 8,
   "metadata": {},
   "outputs": [
    {
     "data": {
      "text/plain": [
       "companyID          0\n",
       "jobID              0\n",
       "companySize    14967\n",
       "tagID              0\n",
       "keyword            0\n",
       "userID             0\n",
       "dtype: int64"
      ]
     },
     "execution_count": 8,
     "metadata": {},
     "output_type": "execute_result"
    }
   ],
   "source": [
    "total_new_df.isnull().sum()"
   ]
  },
  {
   "cell_type": "code",
   "execution_count": 9,
   "metadata": {},
   "outputs": [
    {
     "data": {
      "text/plain": [
       "11-50       51459\n",
       "51-100      27112\n",
       "1-10        20315\n",
       "201-500     10540\n",
       "101-200     10327\n",
       "1000 이상      4535\n",
       "501-1000     2817\n",
       "Name: companySize, dtype: int64"
      ]
     },
     "execution_count": 9,
     "metadata": {},
     "output_type": "execute_result"
    }
   ],
   "source": [
    "total_new_df.companySize.value_counts()"
   ]
  },
  {
   "cell_type": "code",
   "execution_count": 10,
   "metadata": {},
   "outputs": [
    {
     "data": {
      "text/html": [
       "<div>\n",
       "<style scoped>\n",
       "    .dataframe tbody tr th:only-of-type {\n",
       "        vertical-align: middle;\n",
       "    }\n",
       "\n",
       "    .dataframe tbody tr th {\n",
       "        vertical-align: top;\n",
       "    }\n",
       "\n",
       "    .dataframe thead th {\n",
       "        text-align: right;\n",
       "    }\n",
       "</style>\n",
       "<table border=\"1\" class=\"dataframe\">\n",
       "  <thead>\n",
       "    <tr style=\"text-align: right;\">\n",
       "      <th></th>\n",
       "      <th>userID</th>\n",
       "      <th>jobID</th>\n",
       "      <th>applied</th>\n",
       "    </tr>\n",
       "  </thead>\n",
       "  <tbody>\n",
       "    <tr>\n",
       "      <th>0</th>\n",
       "      <td>fe292163d06253b716e9a0099b42031d</td>\n",
       "      <td>15de21c670ae7c3f6f3f1f37029303c9</td>\n",
       "      <td>0</td>\n",
       "    </tr>\n",
       "    <tr>\n",
       "      <th>1</th>\n",
       "      <td>6377fa90618fae77571e8dc90d98d409</td>\n",
       "      <td>55b37c5c270e5d84c793e486d798c01d</td>\n",
       "      <td>0</td>\n",
       "    </tr>\n",
       "    <tr>\n",
       "      <th>2</th>\n",
       "      <td>8ec0888a5b04139be0dfe942c7eb4199</td>\n",
       "      <td>0fcbc61acd0479dc77e3cccc0f5ffca7</td>\n",
       "      <td>1</td>\n",
       "    </tr>\n",
       "    <tr>\n",
       "      <th>3</th>\n",
       "      <td>f862b39f767d3a1991bdeb2ea1401c9c</td>\n",
       "      <td>3b5dca501ee1e6d8cd7b905f4e1bf723</td>\n",
       "      <td>0</td>\n",
       "    </tr>\n",
       "    <tr>\n",
       "      <th>4</th>\n",
       "      <td>cac14930c65d72c16efac2c51a6b7f71</td>\n",
       "      <td>287e03db1d99e0ec2edb90d079e142f3</td>\n",
       "      <td>0</td>\n",
       "    </tr>\n",
       "  </tbody>\n",
       "</table>\n",
       "</div>"
      ],
      "text/plain": [
       "                             userID                             jobID  applied\n",
       "0  fe292163d06253b716e9a0099b42031d  15de21c670ae7c3f6f3f1f37029303c9        0\n",
       "1  6377fa90618fae77571e8dc90d98d409  55b37c5c270e5d84c793e486d798c01d        0\n",
       "2  8ec0888a5b04139be0dfe942c7eb4199  0fcbc61acd0479dc77e3cccc0f5ffca7        1\n",
       "3  f862b39f767d3a1991bdeb2ea1401c9c  3b5dca501ee1e6d8cd7b905f4e1bf723        0\n",
       "4  cac14930c65d72c16efac2c51a6b7f71  287e03db1d99e0ec2edb90d079e142f3        0"
      ]
     },
     "execution_count": 10,
     "metadata": {},
     "output_type": "execute_result"
    }
   ],
   "source": [
    "train_df = pd.read_csv('./train.csv')\n",
    "train_df.head()"
   ]
  },
  {
   "cell_type": "code",
   "execution_count": 11,
   "metadata": {},
   "outputs": [
    {
     "data": {
      "text/html": [
       "<div>\n",
       "<style scoped>\n",
       "    .dataframe tbody tr th:only-of-type {\n",
       "        vertical-align: middle;\n",
       "    }\n",
       "\n",
       "    .dataframe tbody tr th {\n",
       "        vertical-align: top;\n",
       "    }\n",
       "\n",
       "    .dataframe thead th {\n",
       "        text-align: right;\n",
       "    }\n",
       "</style>\n",
       "<table border=\"1\" class=\"dataframe\">\n",
       "  <thead>\n",
       "    <tr style=\"text-align: right;\">\n",
       "      <th></th>\n",
       "      <th>userID</th>\n",
       "      <th>jobID</th>\n",
       "      <th>applied</th>\n",
       "      <th>companyID</th>\n",
       "      <th>companySize</th>\n",
       "      <th>tagID</th>\n",
       "      <th>keyword</th>\n",
       "    </tr>\n",
       "  </thead>\n",
       "  <tbody>\n",
       "    <tr>\n",
       "      <th>0</th>\n",
       "      <td>6377fa90618fae77571e8dc90d98d409</td>\n",
       "      <td>55b37c5c270e5d84c793e486d798c01d</td>\n",
       "      <td>0</td>\n",
       "      <td>846c260d715e5b854ffad5f70a516c88</td>\n",
       "      <td>101-200</td>\n",
       "      <td>c8ba76c279269b1c6bc8a07e38e78fa4</td>\n",
       "      <td>MySQL</td>\n",
       "    </tr>\n",
       "    <tr>\n",
       "      <th>1</th>\n",
       "      <td>8ec0888a5b04139be0dfe942c7eb4199</td>\n",
       "      <td>0fcbc61acd0479dc77e3cccc0f5ffca7</td>\n",
       "      <td>1</td>\n",
       "      <td>edfbe1afcf9246bb0d40eb4d8027d90f</td>\n",
       "      <td>NaN</td>\n",
       "      <td>aace49c7d80767cffec0e513ae886df0</td>\n",
       "      <td>Android</td>\n",
       "    </tr>\n",
       "    <tr>\n",
       "      <th>2</th>\n",
       "      <td>f862b39f767d3a1991bdeb2ea1401c9c</td>\n",
       "      <td>3b5dca501ee1e6d8cd7b905f4e1bf723</td>\n",
       "      <td>0</td>\n",
       "      <td>884d79963bd8bc0ae9b13a1aa71add73</td>\n",
       "      <td>11-50</td>\n",
       "      <td>0e095e054ee94774d6a496099eb1cf6a</td>\n",
       "      <td>JavaScript</td>\n",
       "    </tr>\n",
       "    <tr>\n",
       "      <th>3</th>\n",
       "      <td>f862b39f767d3a1991bdeb2ea1401c9c</td>\n",
       "      <td>3b5dca501ee1e6d8cd7b905f4e1bf723</td>\n",
       "      <td>0</td>\n",
       "      <td>884d79963bd8bc0ae9b13a1aa71add73</td>\n",
       "      <td>11-50</td>\n",
       "      <td>81dc9bdb52d04dc20036dbd8313ed055</td>\n",
       "      <td>ReactJS</td>\n",
       "    </tr>\n",
       "    <tr>\n",
       "      <th>4</th>\n",
       "      <td>f862b39f767d3a1991bdeb2ea1401c9c</td>\n",
       "      <td>3b5dca501ee1e6d8cd7b905f4e1bf723</td>\n",
       "      <td>0</td>\n",
       "      <td>884d79963bd8bc0ae9b13a1aa71add73</td>\n",
       "      <td>11-50</td>\n",
       "      <td>cd758e8f59dfdf06a852adad277986ca</td>\n",
       "      <td>TypeScript</td>\n",
       "    </tr>\n",
       "  </tbody>\n",
       "</table>\n",
       "</div>"
      ],
      "text/plain": [
       "                             userID                             jobID  \\\n",
       "0  6377fa90618fae77571e8dc90d98d409  55b37c5c270e5d84c793e486d798c01d   \n",
       "1  8ec0888a5b04139be0dfe942c7eb4199  0fcbc61acd0479dc77e3cccc0f5ffca7   \n",
       "2  f862b39f767d3a1991bdeb2ea1401c9c  3b5dca501ee1e6d8cd7b905f4e1bf723   \n",
       "3  f862b39f767d3a1991bdeb2ea1401c9c  3b5dca501ee1e6d8cd7b905f4e1bf723   \n",
       "4  f862b39f767d3a1991bdeb2ea1401c9c  3b5dca501ee1e6d8cd7b905f4e1bf723   \n",
       "\n",
       "   applied                         companyID companySize  \\\n",
       "0        0  846c260d715e5b854ffad5f70a516c88     101-200   \n",
       "1        1  edfbe1afcf9246bb0d40eb4d8027d90f         NaN   \n",
       "2        0  884d79963bd8bc0ae9b13a1aa71add73       11-50   \n",
       "3        0  884d79963bd8bc0ae9b13a1aa71add73       11-50   \n",
       "4        0  884d79963bd8bc0ae9b13a1aa71add73       11-50   \n",
       "\n",
       "                              tagID     keyword  \n",
       "0  c8ba76c279269b1c6bc8a07e38e78fa4       MySQL  \n",
       "1  aace49c7d80767cffec0e513ae886df0     Android  \n",
       "2  0e095e054ee94774d6a496099eb1cf6a  JavaScript  \n",
       "3  81dc9bdb52d04dc20036dbd8313ed055     ReactJS  \n",
       "4  cd758e8f59dfdf06a852adad277986ca  TypeScript  "
      ]
     },
     "execution_count": 11,
     "metadata": {},
     "output_type": "execute_result"
    }
   ],
   "source": [
    "model_train_df = pd.merge(train_df, total_new_df, left_on= ['userID', 'jobID'], right_on=['userID', 'jobID'])\n",
    "model_train_df.head()"
   ]
  },
  {
   "cell_type": "code",
   "execution_count": 12,
   "metadata": {},
   "outputs": [
    {
     "data": {
      "text/html": [
       "<div>\n",
       "<style scoped>\n",
       "    .dataframe tbody tr th:only-of-type {\n",
       "        vertical-align: middle;\n",
       "    }\n",
       "\n",
       "    .dataframe tbody tr th {\n",
       "        vertical-align: top;\n",
       "    }\n",
       "\n",
       "    .dataframe thead th {\n",
       "        text-align: right;\n",
       "    }\n",
       "</style>\n",
       "<table border=\"1\" class=\"dataframe\">\n",
       "  <thead>\n",
       "    <tr style=\"text-align: right;\">\n",
       "      <th></th>\n",
       "      <th>userID</th>\n",
       "      <th>jobID</th>\n",
       "    </tr>\n",
       "  </thead>\n",
       "  <tbody>\n",
       "    <tr>\n",
       "      <th>0</th>\n",
       "      <td>ebaee1af0c501f22ddfe242fc16dae53</td>\n",
       "      <td>352407221afb776e3143e8a1a0577885</td>\n",
       "    </tr>\n",
       "    <tr>\n",
       "      <th>1</th>\n",
       "      <td>9ab05403ac7808cbfba3da26665f7a9c</td>\n",
       "      <td>96b9bff013acedfb1d140579e2fbeb63</td>\n",
       "    </tr>\n",
       "    <tr>\n",
       "      <th>2</th>\n",
       "      <td>33349e909eba71677299d2fc97e158b7</td>\n",
       "      <td>58d4d1e7b1e97b258c9ed0b37e02d087</td>\n",
       "    </tr>\n",
       "    <tr>\n",
       "      <th>3</th>\n",
       "      <td>ac985a9db5faeb44c94a334430ccc241</td>\n",
       "      <td>ccb0989662211f61edae2e26d58ea92f</td>\n",
       "    </tr>\n",
       "    <tr>\n",
       "      <th>4</th>\n",
       "      <td>d41e0e6f6f1e29098d9d152511503ab2</td>\n",
       "      <td>4a213d37242bdcad8e7300e202e7caa4</td>\n",
       "    </tr>\n",
       "  </tbody>\n",
       "</table>\n",
       "</div>"
      ],
      "text/plain": [
       "                             userID                             jobID\n",
       "0  ebaee1af0c501f22ddfe242fc16dae53  352407221afb776e3143e8a1a0577885\n",
       "1  9ab05403ac7808cbfba3da26665f7a9c  96b9bff013acedfb1d140579e2fbeb63\n",
       "2  33349e909eba71677299d2fc97e158b7  58d4d1e7b1e97b258c9ed0b37e02d087\n",
       "3  ac985a9db5faeb44c94a334430ccc241  ccb0989662211f61edae2e26d58ea92f\n",
       "4  d41e0e6f6f1e29098d9d152511503ab2  4a213d37242bdcad8e7300e202e7caa4"
      ]
     },
     "execution_count": 12,
     "metadata": {},
     "output_type": "execute_result"
    }
   ],
   "source": [
    "test_df = pd.read_csv('./test_job.csv')\n",
    "test_df.head()"
   ]
  },
  {
   "cell_type": "code",
   "execution_count": 13,
   "metadata": {},
   "outputs": [
    {
     "name": "stdout",
     "output_type": "stream",
     "text": [
      "<class 'pandas.core.frame.DataFrame'>\n",
      "RangeIndex: 2435 entries, 0 to 2434\n",
      "Data columns (total 2 columns):\n",
      " #   Column  Non-Null Count  Dtype \n",
      "---  ------  --------------  ----- \n",
      " 0   userID  2435 non-null   object\n",
      " 1   jobID   2435 non-null   object\n",
      "dtypes: object(2)\n",
      "memory usage: 38.2+ KB\n"
     ]
    }
   ],
   "source": [
    "pd.read_csv('./test_job.csv').info()"
   ]
  },
  {
   "cell_type": "code",
   "execution_count": 14,
   "metadata": {},
   "outputs": [
    {
     "data": {
      "text/html": [
       "<div>\n",
       "<style scoped>\n",
       "    .dataframe tbody tr th:only-of-type {\n",
       "        vertical-align: middle;\n",
       "    }\n",
       "\n",
       "    .dataframe tbody tr th {\n",
       "        vertical-align: top;\n",
       "    }\n",
       "\n",
       "    .dataframe thead th {\n",
       "        text-align: right;\n",
       "    }\n",
       "</style>\n",
       "<table border=\"1\" class=\"dataframe\">\n",
       "  <thead>\n",
       "    <tr style=\"text-align: right;\">\n",
       "      <th></th>\n",
       "      <th>userID</th>\n",
       "      <th>jobID</th>\n",
       "      <th>companyID</th>\n",
       "      <th>companySize</th>\n",
       "      <th>tagID</th>\n",
       "      <th>keyword</th>\n",
       "    </tr>\n",
       "  </thead>\n",
       "  <tbody>\n",
       "    <tr>\n",
       "      <th>0</th>\n",
       "      <td>ebaee1af0c501f22ddfe242fc16dae53</td>\n",
       "      <td>352407221afb776e3143e8a1a0577885</td>\n",
       "      <td>b51a15f382ac914391a58850ab343b00</td>\n",
       "      <td>11-50</td>\n",
       "      <td>3948ead63a9f2944218de038d8934305</td>\n",
       "      <td>Node.js</td>\n",
       "    </tr>\n",
       "    <tr>\n",
       "      <th>1</th>\n",
       "      <td>ebaee1af0c501f22ddfe242fc16dae53</td>\n",
       "      <td>352407221afb776e3143e8a1a0577885</td>\n",
       "      <td>b51a15f382ac914391a58850ab343b00</td>\n",
       "      <td>11-50</td>\n",
       "      <td>7d771e0e8f3633ab54856925ecdefc5d</td>\n",
       "      <td>HTML</td>\n",
       "    </tr>\n",
       "    <tr>\n",
       "      <th>2</th>\n",
       "      <td>ebaee1af0c501f22ddfe242fc16dae53</td>\n",
       "      <td>352407221afb776e3143e8a1a0577885</td>\n",
       "      <td>b51a15f382ac914391a58850ab343b00</td>\n",
       "      <td>11-50</td>\n",
       "      <td>285ab9448d2751ee57ece7f762c39095</td>\n",
       "      <td>MongoDB</td>\n",
       "    </tr>\n",
       "    <tr>\n",
       "      <th>3</th>\n",
       "      <td>9ab05403ac7808cbfba3da26665f7a9c</td>\n",
       "      <td>96b9bff013acedfb1d140579e2fbeb63</td>\n",
       "      <td>9f396fe44e7c05c16873b05ec425cbad</td>\n",
       "      <td>51-100</td>\n",
       "      <td>3948ead63a9f2944218de038d8934305</td>\n",
       "      <td>Node.js</td>\n",
       "    </tr>\n",
       "    <tr>\n",
       "      <th>4</th>\n",
       "      <td>33349e909eba71677299d2fc97e158b7</td>\n",
       "      <td>58d4d1e7b1e97b258c9ed0b37e02d087</td>\n",
       "      <td>68053af2923e00204c3ca7c6a3150cf7</td>\n",
       "      <td>11-50</td>\n",
       "      <td>0e095e054ee94774d6a496099eb1cf6a</td>\n",
       "      <td>JavaScript</td>\n",
       "    </tr>\n",
       "  </tbody>\n",
       "</table>\n",
       "</div>"
      ],
      "text/plain": [
       "                             userID                             jobID  \\\n",
       "0  ebaee1af0c501f22ddfe242fc16dae53  352407221afb776e3143e8a1a0577885   \n",
       "1  ebaee1af0c501f22ddfe242fc16dae53  352407221afb776e3143e8a1a0577885   \n",
       "2  ebaee1af0c501f22ddfe242fc16dae53  352407221afb776e3143e8a1a0577885   \n",
       "3  9ab05403ac7808cbfba3da26665f7a9c  96b9bff013acedfb1d140579e2fbeb63   \n",
       "4  33349e909eba71677299d2fc97e158b7  58d4d1e7b1e97b258c9ed0b37e02d087   \n",
       "\n",
       "                          companyID companySize  \\\n",
       "0  b51a15f382ac914391a58850ab343b00       11-50   \n",
       "1  b51a15f382ac914391a58850ab343b00       11-50   \n",
       "2  b51a15f382ac914391a58850ab343b00       11-50   \n",
       "3  9f396fe44e7c05c16873b05ec425cbad      51-100   \n",
       "4  68053af2923e00204c3ca7c6a3150cf7       11-50   \n",
       "\n",
       "                              tagID     keyword  \n",
       "0  3948ead63a9f2944218de038d8934305     Node.js  \n",
       "1  7d771e0e8f3633ab54856925ecdefc5d        HTML  \n",
       "2  285ab9448d2751ee57ece7f762c39095     MongoDB  \n",
       "3  3948ead63a9f2944218de038d8934305     Node.js  \n",
       "4  0e095e054ee94774d6a496099eb1cf6a  JavaScript  "
      ]
     },
     "execution_count": 14,
     "metadata": {},
     "output_type": "execute_result"
    }
   ],
   "source": [
    "model_test_df = pd.merge(test_df, total_new_df, left_on= ['userID', 'jobID'], right_on=['userID', 'jobID'])\n",
    "model_test_df.head()"
   ]
  },
  {
   "cell_type": "code",
   "execution_count": 15,
   "metadata": {},
   "outputs": [
    {
     "data": {
      "text/plain": [
       "userID          0.000000\n",
       "jobID           0.000000\n",
       "applied         0.000000\n",
       "companyID       0.000000\n",
       "companySize    10.153594\n",
       "tagID           0.000000\n",
       "keyword         0.000000\n",
       "dtype: float64"
      ]
     },
     "execution_count": 15,
     "metadata": {},
     "output_type": "execute_result"
    }
   ],
   "source": [
    "model_train_df.isnull().sum() / len(model_train_df) * 100\n",
    "# 결측치 날리기 -> 10% 밖에 안됨"
   ]
  },
  {
   "cell_type": "code",
   "execution_count": 16,
   "metadata": {},
   "outputs": [
    {
     "data": {
      "text/plain": [
       "userID         0.000000\n",
       "jobID          0.000000\n",
       "companyID      0.000000\n",
       "companySize    9.564967\n",
       "tagID          0.000000\n",
       "keyword        0.000000\n",
       "dtype: float64"
      ]
     },
     "execution_count": 16,
     "metadata": {},
     "output_type": "execute_result"
    }
   ],
   "source": [
    "model_test_df.isnull().sum() / len(model_test_df) * 100\n",
    "# 결측치 날리기 -> 10% 밖에 안됨"
   ]
  },
  {
   "cell_type": "code",
   "execution_count": 17,
   "metadata": {},
   "outputs": [
    {
     "data": {
      "text/plain": [
       "userID         0.0\n",
       "jobID          0.0\n",
       "applied        0.0\n",
       "companyID      0.0\n",
       "companySize    0.0\n",
       "tagID          0.0\n",
       "keyword        0.0\n",
       "dtype: float64"
      ]
     },
     "execution_count": 17,
     "metadata": {},
     "output_type": "execute_result"
    }
   ],
   "source": [
    "# 모델에 필요한 데이터 최종 정리\n",
    "model_train_df.dropna(axis=0, inplace=True)\n",
    "\n",
    "# model_train_df.fillna(method='pad',axis=0, inplace=True)\n",
    "model_train_df.isnull().sum() / len(model_train_df) * 100"
   ]
  },
  {
   "cell_type": "code",
   "execution_count": 18,
   "metadata": {},
   "outputs": [
    {
     "data": {
      "text/plain": [
       "userID         0.0\n",
       "jobID          0.0\n",
       "companyID      0.0\n",
       "companySize    0.0\n",
       "tagID          0.0\n",
       "keyword        0.0\n",
       "dtype: float64"
      ]
     },
     "execution_count": 18,
     "metadata": {},
     "output_type": "execute_result"
    }
   ],
   "source": [
    "model_test_df.dropna(axis=0, inplace=True)\n",
    "# model_test_df.fillna(method='pad',axis=0, inplace=True)\n",
    "model_test_df.isnull().sum() / len(model_test_df) * 100"
   ]
  },
  {
   "cell_type": "markdown",
   "metadata": {},
   "source": [
    "# 데이터 확인하기 - EDA"
   ]
  },
  {
   "cell_type": "code",
   "execution_count": 19,
   "metadata": {},
   "outputs": [
    {
     "data": {
      "text/plain": [
       "11-50       3245\n",
       "51-100      1413\n",
       "1-10        1187\n",
       "101-200      708\n",
       "201-500      670\n",
       "1000 이상      370\n",
       "501-1000      70\n",
       "Name: companySize, dtype: int64"
      ]
     },
     "execution_count": 19,
     "metadata": {},
     "output_type": "execute_result"
    }
   ],
   "source": [
    "model_train_df.companySize.value_counts()"
   ]
  },
  {
   "cell_type": "code",
   "execution_count": 20,
   "metadata": {},
   "outputs": [
    {
     "data": {
      "text/plain": [
       "JavaScript                   1292\n",
       "Java                         1065\n",
       "Node.js                       743\n",
       "MySQL                         699\n",
       "Python                        568\n",
       "                             ... \n",
       "Spring Data JPA                 1\n",
       "Microservice Architecture       1\n",
       "Jest                            1\n",
       "GatsbyJS                        1\n",
       "Redux-Saga                      1\n",
       "Name: keyword, Length: 103, dtype: int64"
      ]
     },
     "execution_count": 20,
     "metadata": {},
     "output_type": "execute_result"
    }
   ],
   "source": [
    "model_train_df.keyword.value_counts()"
   ]
  },
  {
   "cell_type": "code",
   "execution_count": 21,
   "metadata": {},
   "outputs": [
    {
     "data": {
      "text/plain": [
       "userID\n",
       "0004289ee1c7b8b08c77e19878106ae3     43\n",
       "00dd1479a58930a357e7b4e2ab4c9f33     42\n",
       "015b469419f616144c13e0194f880af7      4\n",
       "01ed443356f762e9132b58f8c80e131d     51\n",
       "03c60b7fc8519077914166ebcfbd6a34      5\n",
       "                                   ... \n",
       "f98e712b83a95b07ef771150ecee9cd4     17\n",
       "fa2a28ade168508972790316e314d47e     33\n",
       "fd1b4044581c63b9cb16d91958302072     30\n",
       "fdfa9a38cf3d8d850a6fd47b438bfe43    145\n",
       "fe292163d06253b716e9a0099b42031d     24\n",
       "Name: keyword, Length: 193, dtype: int64"
      ]
     },
     "execution_count": 21,
     "metadata": {},
     "output_type": "execute_result"
    }
   ],
   "source": [
    "model_train_df.groupby(by=['userID'])['keyword'].count()"
   ]
  },
  {
   "cell_type": "code",
   "execution_count": 22,
   "metadata": {},
   "outputs": [
    {
     "data": {
      "text/plain": [
       "tagID\n",
       "03f544613917945245041ea1581df0c2       1\n",
       "0c048b3a434e49e655c1247efb389cec       3\n",
       "0c8ce55163055c4da50a81e0a273468c       2\n",
       "0e095e054ee94774d6a496099eb1cf6a    1292\n",
       "16e6a3326dd7d868cbc926602a61e4d0       8\n",
       "                                    ... \n",
       "fc3cf452d3da8402bebb765225ce8c0e       1\n",
       "fc528592c3858f90196fbfacc814f235       1\n",
       "fe2d010308a6b3799a3d9c728ee74244       1\n",
       "fec87a37cdeec1c6ecf8181c0aa2d3bf       1\n",
       "ffeed84c7cb1ae7bf4ec4bd78275bb98      16\n",
       "Name: userID, Length: 103, dtype: int64"
      ]
     },
     "execution_count": 22,
     "metadata": {},
     "output_type": "execute_result"
    }
   ],
   "source": [
    "model_train_df.groupby(by=['tagID'])['userID'].count()"
   ]
  },
  {
   "cell_type": "code",
   "execution_count": 23,
   "metadata": {},
   "outputs": [
    {
     "data": {
      "text/plain": [
       "keyword\n",
       "ASP.NET                  1\n",
       "AWS DynamoDB             3\n",
       "AWS EC2                 48\n",
       "AWS ElasticBeanstalk     2\n",
       "AWS Lambda               9\n",
       "                        ..\n",
       "Vuex                     1\n",
       "Webpack                 27\n",
       "iOS                      2\n",
       "jQuery                  81\n",
       "web3.js                  1\n",
       "Name: userID, Length: 103, dtype: int64"
      ]
     },
     "execution_count": 23,
     "metadata": {},
     "output_type": "execute_result"
    }
   ],
   "source": [
    "model_train_df.groupby(by=['keyword'])['userID'].count()"
   ]
  },
  {
   "cell_type": "code",
   "execution_count": 24,
   "metadata": {},
   "outputs": [
    {
     "data": {
      "text/plain": [
       "keyword\n",
       "ASP.NET                  1\n",
       "AWS DynamoDB             3\n",
       "AWS EC2                 48\n",
       "AWS ElasticBeanstalk     2\n",
       "AWS Lambda               9\n",
       "                        ..\n",
       "Vuex                     1\n",
       "Webpack                 27\n",
       "iOS                      2\n",
       "jQuery                  81\n",
       "web3.js                  1\n",
       "Name: companySize, Length: 103, dtype: int64"
      ]
     },
     "execution_count": 24,
     "metadata": {},
     "output_type": "execute_result"
    }
   ],
   "source": [
    "model_train_df.groupby(by=['keyword'])['companySize'].count()"
   ]
  },
  {
   "cell_type": "code",
   "execution_count": 25,
   "metadata": {},
   "outputs": [
    {
     "data": {
      "text/plain": [
       "keyword       companySize\n",
       "ASP.NET       11-50           1\n",
       "AWS DynamoDB  11-50           2\n",
       "              51-100          1\n",
       "AWS EC2       1-10           12\n",
       "              101-200         7\n",
       "                             ..\n",
       "jQuery        101-200         5\n",
       "              11-50          50\n",
       "              201-500         7\n",
       "              51-100          8\n",
       "web3.js       1-10            1\n",
       "Name: userID, Length: 311, dtype: int64"
      ]
     },
     "execution_count": 25,
     "metadata": {},
     "output_type": "execute_result"
    }
   ],
   "source": [
    "model_train_df.groupby(by=['keyword', 'companySize'])['userID'].count()"
   ]
  },
  {
   "cell_type": "code",
   "execution_count": 26,
   "metadata": {},
   "outputs": [],
   "source": [
    "model_train_df.drop(columns=['tagID'], axis=1, inplace=True)"
   ]
  },
  {
   "cell_type": "code",
   "execution_count": 27,
   "metadata": {},
   "outputs": [
    {
     "data": {
      "text/plain": [
       "Index(['userID', 'jobID', 'applied', 'companyID', 'companySize', 'keyword'], dtype='object')"
      ]
     },
     "execution_count": 27,
     "metadata": {},
     "output_type": "execute_result"
    }
   ],
   "source": [
    "model_train_df.columns"
   ]
  },
  {
   "cell_type": "code",
   "execution_count": 28,
   "metadata": {},
   "outputs": [
    {
     "data": {
      "text/html": [
       "<div>\n",
       "<style scoped>\n",
       "    .dataframe tbody tr th:only-of-type {\n",
       "        vertical-align: middle;\n",
       "    }\n",
       "\n",
       "    .dataframe tbody tr th {\n",
       "        vertical-align: top;\n",
       "    }\n",
       "\n",
       "    .dataframe thead th {\n",
       "        text-align: right;\n",
       "    }\n",
       "</style>\n",
       "<table border=\"1\" class=\"dataframe\">\n",
       "  <thead>\n",
       "    <tr style=\"text-align: right;\">\n",
       "      <th></th>\n",
       "      <th>userID</th>\n",
       "      <th>jobID</th>\n",
       "      <th>applied</th>\n",
       "      <th>companyID</th>\n",
       "      <th>companySize</th>\n",
       "      <th>keyword</th>\n",
       "    </tr>\n",
       "  </thead>\n",
       "  <tbody>\n",
       "    <tr>\n",
       "      <th>0</th>\n",
       "      <td>62</td>\n",
       "      <td>186</td>\n",
       "      <td>0</td>\n",
       "      <td>120</td>\n",
       "      <td>2</td>\n",
       "      <td>61</td>\n",
       "    </tr>\n",
       "    <tr>\n",
       "      <th>2</th>\n",
       "      <td>187</td>\n",
       "      <td>136</td>\n",
       "      <td>0</td>\n",
       "      <td>124</td>\n",
       "      <td>3</td>\n",
       "      <td>47</td>\n",
       "    </tr>\n",
       "    <tr>\n",
       "      <th>3</th>\n",
       "      <td>187</td>\n",
       "      <td>136</td>\n",
       "      <td>0</td>\n",
       "      <td>124</td>\n",
       "      <td>3</td>\n",
       "      <td>79</td>\n",
       "    </tr>\n",
       "    <tr>\n",
       "      <th>4</th>\n",
       "      <td>187</td>\n",
       "      <td>136</td>\n",
       "      <td>0</td>\n",
       "      <td>124</td>\n",
       "      <td>3</td>\n",
       "      <td>94</td>\n",
       "    </tr>\n",
       "    <tr>\n",
       "      <th>5</th>\n",
       "      <td>156</td>\n",
       "      <td>92</td>\n",
       "      <td>0</td>\n",
       "      <td>163</td>\n",
       "      <td>6</td>\n",
       "      <td>47</td>\n",
       "    </tr>\n",
       "  </tbody>\n",
       "</table>\n",
       "</div>"
      ],
      "text/plain": [
       "   userID  jobID  applied  companyID  companySize  keyword\n",
       "0      62    186        0        120            2       61\n",
       "2     187    136        0        124            3       47\n",
       "3     187    136        0        124            3       79\n",
       "4     187    136        0        124            3       94\n",
       "5     156     92        0        163            6       47"
      ]
     },
     "execution_count": 28,
     "metadata": {},
     "output_type": "execute_result"
    }
   ],
   "source": [
    "from sklearn.preprocessing import LabelEncoder\n",
    "le = LabelEncoder()\n",
    "for col in model_train_df.columns:\n",
    "    if col != 'applied':\n",
    "        model_train_df[col] = le.fit_transform(model_train_df[col])\n",
    "model_train_df.head()"
   ]
  },
  {
   "cell_type": "code",
   "execution_count": 29,
   "metadata": {},
   "outputs": [
    {
     "data": {
      "text/plain": [
       "0    6344\n",
       "1    1319\n",
       "Name: applied, dtype: int64"
      ]
     },
     "execution_count": 29,
     "metadata": {},
     "output_type": "execute_result"
    }
   ],
   "source": [
    "model_train_df.applied.value_counts()\n",
    "# 데이터의 불균형이 보여짐 -> 불균형 처리가 필요함."
   ]
  },
  {
   "cell_type": "code",
   "execution_count": 30,
   "metadata": {},
   "outputs": [
    {
     "data": {
      "text/html": [
       "<div>\n",
       "<style scoped>\n",
       "    .dataframe tbody tr th:only-of-type {\n",
       "        vertical-align: middle;\n",
       "    }\n",
       "\n",
       "    .dataframe tbody tr th {\n",
       "        vertical-align: top;\n",
       "    }\n",
       "\n",
       "    .dataframe thead th {\n",
       "        text-align: right;\n",
       "    }\n",
       "</style>\n",
       "<table border=\"1\" class=\"dataframe\">\n",
       "  <thead>\n",
       "    <tr style=\"text-align: right;\">\n",
       "      <th></th>\n",
       "      <th>userID</th>\n",
       "      <th>jobID</th>\n",
       "      <th>companyID</th>\n",
       "      <th>companySize</th>\n",
       "      <th>keyword</th>\n",
       "    </tr>\n",
       "  </thead>\n",
       "  <tbody>\n",
       "    <tr>\n",
       "      <th>0</th>\n",
       "      <td>176</td>\n",
       "      <td>89</td>\n",
       "      <td>139</td>\n",
       "      <td>3</td>\n",
       "      <td>50</td>\n",
       "    </tr>\n",
       "    <tr>\n",
       "      <th>1</th>\n",
       "      <td>176</td>\n",
       "      <td>89</td>\n",
       "      <td>139</td>\n",
       "      <td>3</td>\n",
       "      <td>34</td>\n",
       "    </tr>\n",
       "    <tr>\n",
       "      <th>2</th>\n",
       "      <td>176</td>\n",
       "      <td>89</td>\n",
       "      <td>139</td>\n",
       "      <td>3</td>\n",
       "      <td>46</td>\n",
       "    </tr>\n",
       "    <tr>\n",
       "      <th>3</th>\n",
       "      <td>118</td>\n",
       "      <td>248</td>\n",
       "      <td>118</td>\n",
       "      <td>6</td>\n",
       "      <td>50</td>\n",
       "    </tr>\n",
       "    <tr>\n",
       "      <th>4</th>\n",
       "      <td>29</td>\n",
       "      <td>149</td>\n",
       "      <td>79</td>\n",
       "      <td>3</td>\n",
       "      <td>39</td>\n",
       "    </tr>\n",
       "  </tbody>\n",
       "</table>\n",
       "</div>"
      ],
      "text/plain": [
       "   userID  jobID  companyID  companySize  keyword\n",
       "0     176     89        139            3       50\n",
       "1     176     89        139            3       34\n",
       "2     176     89        139            3       46\n",
       "3     118    248        118            6       50\n",
       "4      29    149         79            3       39"
      ]
     },
     "execution_count": 30,
     "metadata": {},
     "output_type": "execute_result"
    }
   ],
   "source": [
    "model_test_df.drop(columns=['tagID'], axis=1, inplace=True)\n",
    "for col in model_test_df.columns:\n",
    "    if col != 'applied':\n",
    "        model_test_df[col] = le.fit_transform(model_test_df[col])\n",
    "model_test_df.head()"
   ]
  },
  {
   "cell_type": "markdown",
   "metadata": {},
   "source": [
    "# 모델링 준비하기"
   ]
  },
  {
   "cell_type": "code",
   "execution_count": 31,
   "metadata": {},
   "outputs": [
    {
     "data": {
      "text/html": [
       "<div>\n",
       "<style scoped>\n",
       "    .dataframe tbody tr th:only-of-type {\n",
       "        vertical-align: middle;\n",
       "    }\n",
       "\n",
       "    .dataframe tbody tr th {\n",
       "        vertical-align: top;\n",
       "    }\n",
       "\n",
       "    .dataframe thead th {\n",
       "        text-align: right;\n",
       "    }\n",
       "</style>\n",
       "<table border=\"1\" class=\"dataframe\">\n",
       "  <thead>\n",
       "    <tr style=\"text-align: right;\">\n",
       "      <th></th>\n",
       "      <th>userID</th>\n",
       "      <th>jobID</th>\n",
       "      <th>applied</th>\n",
       "      <th>companyID</th>\n",
       "      <th>companySize</th>\n",
       "      <th>keyword</th>\n",
       "    </tr>\n",
       "  </thead>\n",
       "  <tbody>\n",
       "    <tr>\n",
       "      <th>0</th>\n",
       "      <td>62</td>\n",
       "      <td>186</td>\n",
       "      <td>0</td>\n",
       "      <td>120</td>\n",
       "      <td>2</td>\n",
       "      <td>61</td>\n",
       "    </tr>\n",
       "    <tr>\n",
       "      <th>1</th>\n",
       "      <td>187</td>\n",
       "      <td>136</td>\n",
       "      <td>0</td>\n",
       "      <td>124</td>\n",
       "      <td>3</td>\n",
       "      <td>47</td>\n",
       "    </tr>\n",
       "    <tr>\n",
       "      <th>2</th>\n",
       "      <td>187</td>\n",
       "      <td>136</td>\n",
       "      <td>0</td>\n",
       "      <td>124</td>\n",
       "      <td>3</td>\n",
       "      <td>79</td>\n",
       "    </tr>\n",
       "    <tr>\n",
       "      <th>3</th>\n",
       "      <td>187</td>\n",
       "      <td>136</td>\n",
       "      <td>0</td>\n",
       "      <td>124</td>\n",
       "      <td>3</td>\n",
       "      <td>94</td>\n",
       "    </tr>\n",
       "    <tr>\n",
       "      <th>4</th>\n",
       "      <td>156</td>\n",
       "      <td>92</td>\n",
       "      <td>0</td>\n",
       "      <td>163</td>\n",
       "      <td>6</td>\n",
       "      <td>47</td>\n",
       "    </tr>\n",
       "  </tbody>\n",
       "</table>\n",
       "</div>"
      ],
      "text/plain": [
       "   userID  jobID  applied  companyID  companySize  keyword\n",
       "0      62    186        0        120            2       61\n",
       "1     187    136        0        124            3       47\n",
       "2     187    136        0        124            3       79\n",
       "3     187    136        0        124            3       94\n",
       "4     156     92        0        163            6       47"
      ]
     },
     "execution_count": 31,
     "metadata": {},
     "output_type": "execute_result"
    }
   ],
   "source": [
    "model_train_df.reset_index(drop=True, inplace=True)\n",
    "model_train_df.head()"
   ]
  },
  {
   "cell_type": "code",
   "execution_count": 32,
   "metadata": {},
   "outputs": [
    {
     "data": {
      "text/plain": [
       "((10150, 5), (2538, 5), (10150,), (2538,))"
      ]
     },
     "execution_count": 32,
     "metadata": {},
     "output_type": "execute_result"
    }
   ],
   "source": [
    "# 데이터 분할하기\n",
    "\n",
    "cols = [col for col in model_train_df.columns if col != 'applied']\n",
    "X_data = model_train_df[cols]\n",
    "y_data = model_train_df['applied']\n",
    "\n",
    "from sklearn.model_selection import train_test_split\n",
    "from imblearn.over_sampling import SMOTE\n",
    "\n",
    "sm = SMOTE(random_state=2022)\n",
    "over_X_tr, over_y_tr = sm.fit_resample(X_data,y_data)\n",
    "X_tr, X_val, y_tr, y_val = train_test_split(over_X_tr, over_y_tr, test_size=0.2, random_state=2022, shuffle=True)\n",
    "\n",
    "X_tr.shape, X_val.shape, y_tr.shape, y_val.shape"
   ]
  },
  {
   "cell_type": "code",
   "execution_count": 33,
   "metadata": {},
   "outputs": [
    {
     "data": {
      "text/plain": [
       "0    6344\n",
       "1    6344\n",
       "Name: applied, dtype: int64"
      ]
     },
     "execution_count": 33,
     "metadata": {},
     "output_type": "execute_result"
    }
   ],
   "source": [
    "over_y_tr.value_counts()"
   ]
  },
  {
   "cell_type": "markdown",
   "metadata": {},
   "source": [
    "# binary classifier 모델 선택하기\n",
    "- RF classifier\n",
    "- XGBoost, LightGBM classifier"
   ]
  },
  {
   "cell_type": "code",
   "execution_count": 34,
   "metadata": {},
   "outputs": [],
   "source": [
    "from sklearn.ensemble import RandomForestClassifier\n",
    "from xgboost import  XGBClassifier\n",
    "from lightgbm import LGBMClassifier\n",
    "\n",
    "rfc = RandomForestClassifier(random_state=2022)\n",
    "xgbc = XGBClassifier(random_state=2022)\n",
    "lgbc = LGBMClassifier(random_state=2022)"
   ]
  },
  {
   "cell_type": "code",
   "execution_count": 35,
   "metadata": {},
   "outputs": [
    {
     "name": "stdout",
     "output_type": "stream",
     "text": [
      "score of rfc for validation data: 0.9062253743104807\n"
     ]
    }
   ],
   "source": [
    "rfc.fit(X_tr, y_tr)\n",
    "preds_rfc = rfc.predict(X_val)\n",
    "print('score of rfc for validation data:', rfc.score(X_val, y_val))"
   ]
  },
  {
   "cell_type": "code",
   "execution_count": 36,
   "metadata": {},
   "outputs": [
    {
     "name": "stdout",
     "output_type": "stream",
     "text": [
      "[00:08:06] WARNING: C:/Users/Administrator/workspace/xgboost-win64_release_1.4.0/src/learner.cc:1095: Starting in XGBoost 1.3.0, the default evaluation metric used with the objective 'binary:logistic' was changed from 'error' to 'logloss'. Explicitly set eval_metric if you'd like to restore the old behavior.\n",
      "score of xgbc for validation data: 0.905043341213554\n"
     ]
    }
   ],
   "source": [
    "xgbc.fit(X_tr, y_tr)\n",
    "preds_xgbc = xgbc.predict(X_val)\n",
    "print('score of xgbc for validation data:', xgbc.score(X_val, y_val))"
   ]
  },
  {
   "cell_type": "code",
   "execution_count": 37,
   "metadata": {},
   "outputs": [
    {
     "name": "stdout",
     "output_type": "stream",
     "text": [
      "score of lgbc for validation data: 0.8707643814026793\n"
     ]
    }
   ],
   "source": [
    "lgbc.fit(X_tr, y_tr)\n",
    "preds_lgbc = lgbc.predict(X_val)\n",
    "print('score of lgbc for validation data:', lgbc.score(X_val, y_val))"
   ]
  },
  {
   "cell_type": "code",
   "execution_count": 38,
   "metadata": {},
   "outputs": [
    {
     "name": "stdout",
     "output_type": "stream",
     "text": [
      "score of lgbc for validation data: 0.7663514578408196\n"
     ]
    }
   ],
   "source": [
    "from sklearn.ensemble import GradientBoostingClassifier\n",
    "gbc = GradientBoostingClassifier(random_state=2022)\n",
    "gbc.fit(X_tr, y_tr)\n",
    "preds_gbc = gbc.predict(X_val)\n",
    "print('score of lgbc for validation data:', gbc.score(X_val, y_val))"
   ]
  },
  {
   "cell_type": "code",
   "execution_count": 39,
   "metadata": {},
   "outputs": [
    {
     "name": "stdout",
     "output_type": "stream",
     "text": [
      "accuracy score (rfc): 0.9062253743104807\n",
      "accuracy score (xgbc): 0.905043341213554\n",
      "accuracy score (lgbc): 0.8707643814026793\n",
      "accuracy score (gbc): 0.7663514578408196\n"
     ]
    }
   ],
   "source": [
    "from sklearn.metrics import accuracy_score, classification_report, confusion_matrix\n",
    "\n",
    "print('accuracy score (rfc):', accuracy_score(y_val, preds_rfc))\n",
    "print('accuracy score (xgbc):', accuracy_score(y_val, preds_xgbc))\n",
    "print('accuracy score (lgbc):', accuracy_score(y_val, preds_lgbc))\n",
    "print('accuracy score (gbc):', accuracy_score(y_val, preds_gbc))"
   ]
  },
  {
   "cell_type": "code",
   "execution_count": 40,
   "metadata": {},
   "outputs": [
    {
     "name": "stdout",
     "output_type": "stream",
     "text": [
      "confusion_matrix (rfc): \n",
      " [[1138  121]\n",
      " [ 117 1162]]\n",
      "confusion_matrix (xgbc): \n",
      " [[1139  120]\n",
      " [ 121 1158]]\n",
      "confusion_matrix (lgbc): \n",
      " [[1136  123]\n",
      " [ 205 1074]]\n",
      "confusion_matrix (gbc): \n",
      " [[1011  248]\n",
      " [ 345  934]]\n"
     ]
    }
   ],
   "source": [
    "print('confusion_matrix (rfc):', '\\n', confusion_matrix(y_val, preds_rfc))\n",
    "print('confusion_matrix (xgbc):', '\\n', confusion_matrix(y_val, preds_xgbc))\n",
    "print('confusion_matrix (lgbc):', '\\n', confusion_matrix(y_val, preds_lgbc))\n",
    "print('confusion_matrix (gbc):', '\\n', confusion_matrix(y_val, preds_gbc))"
   ]
  },
  {
   "cell_type": "code",
   "execution_count": 41,
   "metadata": {},
   "outputs": [
    {
     "name": "stdout",
     "output_type": "stream",
     "text": [
      "classification_report (rfc): \n",
      "               precision    recall  f1-score   support\n",
      "\n",
      "           0       0.91      0.90      0.91      1259\n",
      "           1       0.91      0.91      0.91      1279\n",
      "\n",
      "    accuracy                           0.91      2538\n",
      "   macro avg       0.91      0.91      0.91      2538\n",
      "weighted avg       0.91      0.91      0.91      2538\n",
      "\n",
      "classification_report (xgbc): \n",
      "               precision    recall  f1-score   support\n",
      "\n",
      "           0       0.90      0.90      0.90      1259\n",
      "           1       0.91      0.91      0.91      1279\n",
      "\n",
      "    accuracy                           0.91      2538\n",
      "   macro avg       0.91      0.91      0.91      2538\n",
      "weighted avg       0.91      0.91      0.91      2538\n",
      "\n",
      "classification_report (lgbc): \n",
      "               precision    recall  f1-score   support\n",
      "\n",
      "           0       0.85      0.90      0.87      1259\n",
      "           1       0.90      0.84      0.87      1279\n",
      "\n",
      "    accuracy                           0.87      2538\n",
      "   macro avg       0.87      0.87      0.87      2538\n",
      "weighted avg       0.87      0.87      0.87      2538\n",
      "\n",
      "classification_report (gbc): \n",
      "               precision    recall  f1-score   support\n",
      "\n",
      "           0       0.75      0.80      0.77      1259\n",
      "           1       0.79      0.73      0.76      1279\n",
      "\n",
      "    accuracy                           0.77      2538\n",
      "   macro avg       0.77      0.77      0.77      2538\n",
      "weighted avg       0.77      0.77      0.77      2538\n",
      "\n"
     ]
    }
   ],
   "source": [
    "print('classification_report (rfc):', '\\n', classification_report(y_val, preds_rfc))\n",
    "print('classification_report (xgbc):', '\\n', classification_report(y_val, preds_xgbc))\n",
    "print('classification_report (lgbc):', '\\n', classification_report(y_val, preds_lgbc))\n",
    "print('classification_report (gbc):', '\\n', classification_report(y_val, preds_gbc))"
   ]
  },
  {
   "cell_type": "code",
   "execution_count": 42,
   "metadata": {},
   "outputs": [
    {
     "name": "stdout",
     "output_type": "stream",
     "text": [
      "roc_auc_score (rfc): 0.9062071303968736\n",
      "roc_auc_score (xgbc): 0.9050405493270967\n",
      "roc_auc_score (lgbc): 0.8710109727553483\n",
      "roc_auc_score (gbc): 0.7666381412702661\n"
     ]
    }
   ],
   "source": [
    "# XGBoost, Random Forest 모델의 성능이 좋은 것으로 판단되어짐. (랜덤 포레스트의 성능이 다소 더 높은 편)\n",
    "\n",
    "from sklearn.metrics import roc_auc_score, roc_curve\n",
    "\n",
    "print('roc_auc_score (rfc):', roc_auc_score(y_val, preds_rfc))\n",
    "print('roc_auc_score (xgbc):', roc_auc_score(y_val, preds_xgbc))\n",
    "print('roc_auc_score (lgbc):', roc_auc_score(y_val, preds_lgbc))\n",
    "print('roc_auc_score (gbc):', roc_auc_score(y_val, preds_gbc))"
   ]
  },
  {
   "cell_type": "code",
   "execution_count": 43,
   "metadata": {},
   "outputs": [
    {
     "data": {
      "image/png": "[encoded data removed]",
      "text/plain": [
       "<Figure size 432x288 with 1 Axes>"
      ]
     },
     "metadata": {
      "needs_background": "light"
     },
     "output_type": "display_data"
    }
   ],
   "source": [
    "import matplotlib.pyplot as plt\n",
    "\n",
    "def plot_roc_curve(fper, tper, model, preds):\n",
    "    plt.plot(fper, tper, color='red', label='ROC = {:.3f}'.format(roc_auc_score(y_val, preds)))\n",
    "    plt.plot([0, 1], [0, 1], color='green', linestyle='--')\n",
    "    plt.xlabel('False Positive Rate')\n",
    "    plt.ylabel('True Positive Rate')\n",
    "    plt.title(f'Receiver Operating Characteristic Curve - {model}', fontsize = 16)\n",
    "    plt.legend()\n",
    "    plt.show()\n",
    "\n",
    "prob_rfc = rfc.predict_proba(X_val)\n",
    "prob_rfc = prob_rfc[:, 1]\n",
    "fper, tper, thresholds = roc_curve(y_val, prob_rfc)\n",
    "plot_roc_curve(fper, tper, 'rfc', preds_rfc)\n"
   ]
  },
  {
   "cell_type": "code",
   "execution_count": 44,
   "metadata": {},
   "outputs": [
    {
     "data": {
      "image/png": "[encoded data removed]",
      "text/plain": [
       "<Figure size 432x288 with 1 Axes>"
      ]
     },
     "metadata": {
      "needs_background": "light"
     },
     "output_type": "display_data"
    }
   ],
   "source": [
    "prob_xgbc = xgbc.predict_proba(X_val)\n",
    "prob_xgbc = prob_xgbc[:, 1]\n",
    "fper, tper, thresholds = roc_curve(y_val, prob_xgbc)\n",
    "plot_roc_curve(fper, tper, 'xgbc', preds_xgbc)"
   ]
  },
  {
   "cell_type": "code",
   "execution_count": 45,
   "metadata": {},
   "outputs": [
    {
     "data": {
      "image/png": "[encoded data removed]",
      "text/plain": [
       "<Figure size 432x288 with 1 Axes>"
      ]
     },
     "metadata": {
      "needs_background": "light"
     },
     "output_type": "display_data"
    }
   ],
   "source": [
    "prob_lgbc = lgbc.predict_proba(X_val)\n",
    "prob_lgbc = prob_lgbc[:, 1]\n",
    "fper, tper, thresholds = roc_curve(y_val, prob_lgbc)\n",
    "plot_roc_curve(fper, tper, 'lgbc', preds_lgbc)\n"
   ]
  },
  {
   "cell_type": "code",
   "execution_count": 46,
   "metadata": {},
   "outputs": [
    {
     "data": {
      "image/png": "[encoded data removed]",
      "text/plain": [
       "<Figure size 432x288 with 1 Axes>"
      ]
     },
     "metadata": {
      "needs_background": "light"
     },
     "output_type": "display_data"
    }
   ],
   "source": [
    "prob_gbc = gbc.predict_proba(X_val)\n",
    "prob_gbc = prob_gbc[:, 1]\n",
    "fper, tper, thresholds = roc_curve(y_val, prob_gbc)\n",
    "plot_roc_curve(fper, tper, 'gbc', preds_gbc)"
   ]
  },
  {
   "cell_type": "markdown",
   "metadata": {},
   "source": [
    "# 테스트 데이터에 대하여 예측하기 -- 랜덤 포레스트 모델 사용"
   ]
  },
  {
   "cell_type": "code",
   "execution_count": 47,
   "metadata": {},
   "outputs": [
    {
     "data": {
      "text/plain": [
       "array([0, 0, 0, ..., 1, 1, 0], dtype=int64)"
      ]
     },
     "execution_count": 47,
     "metadata": {},
     "output_type": "execute_result"
    }
   ],
   "source": [
    "preds_test = rfc.predict(model_test_df.drop_duplicates())\n",
    "preds_test"
   ]
  },
  {
   "cell_type": "markdown",
   "metadata": {},
   "source": [
    "## 예측한 데이터 csv 형태 파일로 제출하기"
   ]
  },
  {
   "cell_type": "code",
   "execution_count": 48,
   "metadata": {},
   "outputs": [
    {
     "data": {
      "text/html": [
       "<div>\n",
       "<style scoped>\n",
       "    .dataframe tbody tr th:only-of-type {\n",
       "        vertical-align: middle;\n",
       "    }\n",
       "\n",
       "    .dataframe tbody tr th {\n",
       "        vertical-align: top;\n",
       "    }\n",
       "\n",
       "    .dataframe thead th {\n",
       "        text-align: right;\n",
       "    }\n",
       "</style>\n",
       "<table border=\"1\" class=\"dataframe\">\n",
       "  <thead>\n",
       "    <tr style=\"text-align: right;\">\n",
       "      <th></th>\n",
       "      <th>applied</th>\n",
       "    </tr>\n",
       "  </thead>\n",
       "  <tbody>\n",
       "    <tr>\n",
       "      <th>0</th>\n",
       "      <td>0</td>\n",
       "    </tr>\n",
       "    <tr>\n",
       "      <th>1</th>\n",
       "      <td>1</td>\n",
       "    </tr>\n",
       "    <tr>\n",
       "      <th>2</th>\n",
       "      <td>0</td>\n",
       "    </tr>\n",
       "    <tr>\n",
       "      <th>3</th>\n",
       "      <td>1</td>\n",
       "    </tr>\n",
       "    <tr>\n",
       "      <th>4</th>\n",
       "      <td>0</td>\n",
       "    </tr>\n",
       "  </tbody>\n",
       "</table>\n",
       "</div>"
      ],
      "text/plain": [
       "   applied\n",
       "0        0\n",
       "1        1\n",
       "2        0\n",
       "3        1\n",
       "4        0"
      ]
     },
     "execution_count": 48,
     "metadata": {},
     "output_type": "execute_result"
    }
   ],
   "source": [
    "pd.read_csv('./sample_output_job.csv').head()"
   ]
  },
  {
   "cell_type": "code",
   "execution_count": 49,
   "metadata": {},
   "outputs": [
    {
     "data": {
      "text/html": [
       "<div>\n",
       "<style scoped>\n",
       "    .dataframe tbody tr th:only-of-type {\n",
       "        vertical-align: middle;\n",
       "    }\n",
       "\n",
       "    .dataframe tbody tr th {\n",
       "        vertical-align: top;\n",
       "    }\n",
       "\n",
       "    .dataframe thead th {\n",
       "        text-align: right;\n",
       "    }\n",
       "</style>\n",
       "<table border=\"1\" class=\"dataframe\">\n",
       "  <thead>\n",
       "    <tr style=\"text-align: right;\">\n",
       "      <th></th>\n",
       "      <th>applied</th>\n",
       "    </tr>\n",
       "  </thead>\n",
       "  <tbody>\n",
       "    <tr>\n",
       "      <th>0</th>\n",
       "      <td>0</td>\n",
       "    </tr>\n",
       "    <tr>\n",
       "      <th>1</th>\n",
       "      <td>0</td>\n",
       "    </tr>\n",
       "    <tr>\n",
       "      <th>2</th>\n",
       "      <td>0</td>\n",
       "    </tr>\n",
       "    <tr>\n",
       "      <th>3</th>\n",
       "      <td>0</td>\n",
       "    </tr>\n",
       "    <tr>\n",
       "      <th>4</th>\n",
       "      <td>1</td>\n",
       "    </tr>\n",
       "  </tbody>\n",
       "</table>\n",
       "</div>"
      ],
      "text/plain": [
       "   applied\n",
       "0        0\n",
       "1        0\n",
       "2        0\n",
       "3        0\n",
       "4        1"
      ]
     },
     "execution_count": 49,
     "metadata": {},
     "output_type": "execute_result"
    }
   ],
   "source": [
    "submit_df = pd.DataFrame(preds_test, columns = ['applied'])\n",
    "submit_df.head()"
   ]
  },
  {
   "cell_type": "code",
   "execution_count": 50,
   "metadata": {},
   "outputs": [],
   "source": [
    "submit_df.iloc[:2435].to_csv('./ouput_data_for_submission.csv', index=False)"
   ]
  },
  {
   "cell_type": "code",
   "execution_count": 51,
   "metadata": {},
   "outputs": [
    {
     "data": {
      "text/html": [
       "<div>\n",
       "<style scoped>\n",
       "    .dataframe tbody tr th:only-of-type {\n",
       "        vertical-align: middle;\n",
       "    }\n",
       "\n",
       "    .dataframe tbody tr th {\n",
       "        vertical-align: top;\n",
       "    }\n",
       "\n",
       "    .dataframe thead th {\n",
       "        text-align: right;\n",
       "    }\n",
       "</style>\n",
       "<table border=\"1\" class=\"dataframe\">\n",
       "  <thead>\n",
       "    <tr style=\"text-align: right;\">\n",
       "      <th></th>\n",
       "      <th>applied</th>\n",
       "    </tr>\n",
       "  </thead>\n",
       "  <tbody>\n",
       "    <tr>\n",
       "      <th>0</th>\n",
       "      <td>0</td>\n",
       "    </tr>\n",
       "    <tr>\n",
       "      <th>1</th>\n",
       "      <td>0</td>\n",
       "    </tr>\n",
       "    <tr>\n",
       "      <th>2</th>\n",
       "      <td>0</td>\n",
       "    </tr>\n",
       "    <tr>\n",
       "      <th>3</th>\n",
       "      <td>0</td>\n",
       "    </tr>\n",
       "    <tr>\n",
       "      <th>4</th>\n",
       "      <td>1</td>\n",
       "    </tr>\n",
       "  </tbody>\n",
       "</table>\n",
       "</div>"
      ],
      "text/plain": [
       "   applied\n",
       "0        0\n",
       "1        0\n",
       "2        0\n",
       "3        0\n",
       "4        1"
      ]
     },
     "execution_count": 51,
     "metadata": {},
     "output_type": "execute_result"
    }
   ],
   "source": [
    "pd.read_csv('./ouput_data_for_submission.csv').head()"
   ]
  },
  {
   "cell_type": "code",
   "execution_count": 52,
   "metadata": {},
   "outputs": [
    {
     "data": {
      "text/plain": [
       "3139"
      ]
     },
     "execution_count": 52,
     "metadata": {},
     "output_type": "execute_result"
    }
   ],
   "source": [
    "len(submit_df)"
   ]
  },
  {
   "cell_type": "code",
   "execution_count": 53,
   "metadata": {},
   "outputs": [
    {
     "data": {
      "text/plain": [
       "3139"
      ]
     },
     "execution_count": 53,
     "metadata": {},
     "output_type": "execute_result"
    }
   ],
   "source": [
    "len(model_test_df)"
   ]
  },
  {
   "cell_type": "code",
   "execution_count": 54,
   "metadata": {},
   "outputs": [
    {
     "data": {
      "text/plain": [
       "8"
      ]
     },
     "execution_count": 54,
     "metadata": {},
     "output_type": "execute_result"
    }
   ],
   "source": [
    "df = pd.read_csv('./sample_output_job.csv')\n",
    "len(df)"
   ]
  },
  {
   "cell_type": "code",
   "execution_count": 55,
   "metadata": {},
   "outputs": [
    {
     "data": {
      "text/plain": [
       "applied\n",
       "1          1239\n",
       "0          1196\n",
       "dtype: int64"
      ]
     },
     "execution_count": 55,
     "metadata": {},
     "output_type": "execute_result"
    }
   ],
   "source": [
    "submit_df.iloc[:2435].value_counts()"
   ]
  },
  {
   "cell_type": "code",
   "execution_count": 56,
   "metadata": {},
   "outputs": [
    {
     "data": {
      "text/html": [
       "<div>\n",
       "<style scoped>\n",
       "    .dataframe tbody tr th:only-of-type {\n",
       "        vertical-align: middle;\n",
       "    }\n",
       "\n",
       "    .dataframe tbody tr th {\n",
       "        vertical-align: top;\n",
       "    }\n",
       "\n",
       "    .dataframe thead th {\n",
       "        text-align: right;\n",
       "    }\n",
       "</style>\n",
       "<table border=\"1\" class=\"dataframe\">\n",
       "  <thead>\n",
       "    <tr style=\"text-align: right;\">\n",
       "      <th></th>\n",
       "      <th>applied</th>\n",
       "    </tr>\n",
       "  </thead>\n",
       "  <tbody>\n",
       "    <tr>\n",
       "      <th>2430</th>\n",
       "      <td>0</td>\n",
       "    </tr>\n",
       "    <tr>\n",
       "      <th>2431</th>\n",
       "      <td>1</td>\n",
       "    </tr>\n",
       "    <tr>\n",
       "      <th>2432</th>\n",
       "      <td>1</td>\n",
       "    </tr>\n",
       "    <tr>\n",
       "      <th>2433</th>\n",
       "      <td>1</td>\n",
       "    </tr>\n",
       "    <tr>\n",
       "      <th>2434</th>\n",
       "      <td>0</td>\n",
       "    </tr>\n",
       "  </tbody>\n",
       "</table>\n",
       "</div>"
      ],
      "text/plain": [
       "      applied\n",
       "2430        0\n",
       "2431        1\n",
       "2432        1\n",
       "2433        1\n",
       "2434        0"
      ]
     },
     "execution_count": 56,
     "metadata": {},
     "output_type": "execute_result"
    }
   ],
   "source": [
    "submit_df.iloc[:2435].tail()"
   ]
  }
 ],
 "metadata": {
  "kernelspec": {
   "display_name": "Python 3.8.8 ('base')",
   "language": "python",
   "name": "python3"
  },
  "language_info": {
   "codemirror_mode": {
    "name": "ipython",
    "version": 3
   },
   "file_extension": ".py",
   "mimetype": "text/x-python",
   "name": "python",
   "nbconvert_exporter": "python",
   "pygments_lexer": "ipython3",
   "version": "3.8.8"
  },
  "orig_nbformat": 4,
  "vscode": {
   "interpreter": {
    "hash": "133190d23b7d264051e604fc5b9ec93e014be9753731faa4a5f982dc9ca62410"
   }
  }
 },
 "nbformat": 4,
 "nbformat_minor": 2
}
