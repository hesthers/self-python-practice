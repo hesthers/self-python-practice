{
 "cells": [
  {
   "cell_type": "markdown",
   "id": "1618d5b4",
   "metadata": {},
   "source": [
    "# 파일 읽어서 불러오기"
   ]
  },
  {
   "cell_type": "code",
   "execution_count": 1,
   "id": "e5eb3672",
   "metadata": {},
   "outputs": [],
   "source": [
    "import pandas as pd\n",
    "import numpy as np\n",
    "import seaborn as sns\n",
    "import matplotlib.pyplot as plt\n",
    "pd.set_option('display.max_columns', None)"
   ]
  },
  {
   "cell_type": "code",
   "execution_count": 2,
   "id": "c5926bb6",
   "metadata": {},
   "outputs": [],
   "source": [
    "%matplotlib inline"
   ]
  },
  {
   "cell_type": "code",
   "execution_count": 3,
   "id": "2bea3015",
   "metadata": {},
   "outputs": [
    {
     "ename": "FileNotFoundError",
     "evalue": "[Errno 2] No such file or directory: './train_bic.csv'",
     "output_type": "error",
     "traceback": [
      "\u001b[1;31m---------------------------------------------------------------------------\u001b[0m",
      "\u001b[1;31mFileNotFoundError\u001b[0m                         Traceback (most recent call last)",
      "\u001b[1;32m<ipython-input-3-f972a0d8fafe>\u001b[0m in \u001b[0;36m<module>\u001b[1;34m\u001b[0m\n\u001b[1;32m----> 1\u001b[1;33m \u001b[0mtrain\u001b[0m \u001b[1;33m=\u001b[0m \u001b[0mpd\u001b[0m\u001b[1;33m.\u001b[0m\u001b[0mread_csv\u001b[0m\u001b[1;33m(\u001b[0m\u001b[1;34m'./train_bic.csv'\u001b[0m\u001b[1;33m,\u001b[0m \u001b[0mencoding\u001b[0m\u001b[1;33m=\u001b[0m\u001b[1;34m'utf-8'\u001b[0m\u001b[1;33m)\u001b[0m\u001b[1;33m\u001b[0m\u001b[1;33m\u001b[0m\u001b[0m\n\u001b[0m\u001b[0;32m      2\u001b[0m \u001b[0mtrain\u001b[0m\u001b[1;33m.\u001b[0m\u001b[0mhead\u001b[0m\u001b[1;33m(\u001b[0m\u001b[1;33m)\u001b[0m\u001b[1;33m\u001b[0m\u001b[1;33m\u001b[0m\u001b[0m\n",
      "\u001b[1;32m~\\anaconda3\\lib\\site-packages\\pandas\\io\\parsers.py\u001b[0m in \u001b[0;36mread_csv\u001b[1;34m(filepath_or_buffer, sep, delimiter, header, names, index_col, usecols, squeeze, prefix, mangle_dupe_cols, dtype, engine, converters, true_values, false_values, skipinitialspace, skiprows, skipfooter, nrows, na_values, keep_default_na, na_filter, verbose, skip_blank_lines, parse_dates, infer_datetime_format, keep_date_col, date_parser, dayfirst, cache_dates, iterator, chunksize, compression, thousands, decimal, lineterminator, quotechar, quoting, doublequote, escapechar, comment, encoding, dialect, error_bad_lines, warn_bad_lines, delim_whitespace, low_memory, memory_map, float_precision, storage_options)\u001b[0m\n\u001b[0;32m    608\u001b[0m     \u001b[0mkwds\u001b[0m\u001b[1;33m.\u001b[0m\u001b[0mupdate\u001b[0m\u001b[1;33m(\u001b[0m\u001b[0mkwds_defaults\u001b[0m\u001b[1;33m)\u001b[0m\u001b[1;33m\u001b[0m\u001b[1;33m\u001b[0m\u001b[0m\n\u001b[0;32m    609\u001b[0m \u001b[1;33m\u001b[0m\u001b[0m\n\u001b[1;32m--> 610\u001b[1;33m     \u001b[1;32mreturn\u001b[0m \u001b[0m_read\u001b[0m\u001b[1;33m(\u001b[0m\u001b[0mfilepath_or_buffer\u001b[0m\u001b[1;33m,\u001b[0m \u001b[0mkwds\u001b[0m\u001b[1;33m)\u001b[0m\u001b[1;33m\u001b[0m\u001b[1;33m\u001b[0m\u001b[0m\n\u001b[0m\u001b[0;32m    611\u001b[0m \u001b[1;33m\u001b[0m\u001b[0m\n\u001b[0;32m    612\u001b[0m \u001b[1;33m\u001b[0m\u001b[0m\n",
      "\u001b[1;32m~\\anaconda3\\lib\\site-packages\\pandas\\io\\parsers.py\u001b[0m in \u001b[0;36m_read\u001b[1;34m(filepath_or_buffer, kwds)\u001b[0m\n\u001b[0;32m    460\u001b[0m \u001b[1;33m\u001b[0m\u001b[0m\n\u001b[0;32m    461\u001b[0m     \u001b[1;31m# Create the parser.\u001b[0m\u001b[1;33m\u001b[0m\u001b[1;33m\u001b[0m\u001b[1;33m\u001b[0m\u001b[0m\n\u001b[1;32m--> 462\u001b[1;33m     \u001b[0mparser\u001b[0m \u001b[1;33m=\u001b[0m \u001b[0mTextFileReader\u001b[0m\u001b[1;33m(\u001b[0m\u001b[0mfilepath_or_buffer\u001b[0m\u001b[1;33m,\u001b[0m \u001b[1;33m**\u001b[0m\u001b[0mkwds\u001b[0m\u001b[1;33m)\u001b[0m\u001b[1;33m\u001b[0m\u001b[1;33m\u001b[0m\u001b[0m\n\u001b[0m\u001b[0;32m    463\u001b[0m \u001b[1;33m\u001b[0m\u001b[0m\n\u001b[0;32m    464\u001b[0m     \u001b[1;32mif\u001b[0m \u001b[0mchunksize\u001b[0m \u001b[1;32mor\u001b[0m \u001b[0miterator\u001b[0m\u001b[1;33m:\u001b[0m\u001b[1;33m\u001b[0m\u001b[1;33m\u001b[0m\u001b[0m\n",
      "\u001b[1;32m~\\anaconda3\\lib\\site-packages\\pandas\\io\\parsers.py\u001b[0m in \u001b[0;36m__init__\u001b[1;34m(self, f, engine, **kwds)\u001b[0m\n\u001b[0;32m    817\u001b[0m             \u001b[0mself\u001b[0m\u001b[1;33m.\u001b[0m\u001b[0moptions\u001b[0m\u001b[1;33m[\u001b[0m\u001b[1;34m\"has_index_names\"\u001b[0m\u001b[1;33m]\u001b[0m \u001b[1;33m=\u001b[0m \u001b[0mkwds\u001b[0m\u001b[1;33m[\u001b[0m\u001b[1;34m\"has_index_names\"\u001b[0m\u001b[1;33m]\u001b[0m\u001b[1;33m\u001b[0m\u001b[1;33m\u001b[0m\u001b[0m\n\u001b[0;32m    818\u001b[0m \u001b[1;33m\u001b[0m\u001b[0m\n\u001b[1;32m--> 819\u001b[1;33m         \u001b[0mself\u001b[0m\u001b[1;33m.\u001b[0m\u001b[0m_engine\u001b[0m \u001b[1;33m=\u001b[0m \u001b[0mself\u001b[0m\u001b[1;33m.\u001b[0m\u001b[0m_make_engine\u001b[0m\u001b[1;33m(\u001b[0m\u001b[0mself\u001b[0m\u001b[1;33m.\u001b[0m\u001b[0mengine\u001b[0m\u001b[1;33m)\u001b[0m\u001b[1;33m\u001b[0m\u001b[1;33m\u001b[0m\u001b[0m\n\u001b[0m\u001b[0;32m    820\u001b[0m \u001b[1;33m\u001b[0m\u001b[0m\n\u001b[0;32m    821\u001b[0m     \u001b[1;32mdef\u001b[0m \u001b[0mclose\u001b[0m\u001b[1;33m(\u001b[0m\u001b[0mself\u001b[0m\u001b[1;33m)\u001b[0m\u001b[1;33m:\u001b[0m\u001b[1;33m\u001b[0m\u001b[1;33m\u001b[0m\u001b[0m\n",
      "\u001b[1;32m~\\anaconda3\\lib\\site-packages\\pandas\\io\\parsers.py\u001b[0m in \u001b[0;36m_make_engine\u001b[1;34m(self, engine)\u001b[0m\n\u001b[0;32m   1048\u001b[0m             )\n\u001b[0;32m   1049\u001b[0m         \u001b[1;31m# error: Too many arguments for \"ParserBase\"\u001b[0m\u001b[1;33m\u001b[0m\u001b[1;33m\u001b[0m\u001b[1;33m\u001b[0m\u001b[0m\n\u001b[1;32m-> 1050\u001b[1;33m         \u001b[1;32mreturn\u001b[0m \u001b[0mmapping\u001b[0m\u001b[1;33m[\u001b[0m\u001b[0mengine\u001b[0m\u001b[1;33m]\u001b[0m\u001b[1;33m(\u001b[0m\u001b[0mself\u001b[0m\u001b[1;33m.\u001b[0m\u001b[0mf\u001b[0m\u001b[1;33m,\u001b[0m \u001b[1;33m**\u001b[0m\u001b[0mself\u001b[0m\u001b[1;33m.\u001b[0m\u001b[0moptions\u001b[0m\u001b[1;33m)\u001b[0m  \u001b[1;31m# type: ignore[call-arg]\u001b[0m\u001b[1;33m\u001b[0m\u001b[1;33m\u001b[0m\u001b[0m\n\u001b[0m\u001b[0;32m   1051\u001b[0m \u001b[1;33m\u001b[0m\u001b[0m\n\u001b[0;32m   1052\u001b[0m     \u001b[1;32mdef\u001b[0m \u001b[0m_failover_to_python\u001b[0m\u001b[1;33m(\u001b[0m\u001b[0mself\u001b[0m\u001b[1;33m)\u001b[0m\u001b[1;33m:\u001b[0m\u001b[1;33m\u001b[0m\u001b[1;33m\u001b[0m\u001b[0m\n",
      "\u001b[1;32m~\\anaconda3\\lib\\site-packages\\pandas\\io\\parsers.py\u001b[0m in \u001b[0;36m__init__\u001b[1;34m(self, src, **kwds)\u001b[0m\n\u001b[0;32m   1865\u001b[0m \u001b[1;33m\u001b[0m\u001b[0m\n\u001b[0;32m   1866\u001b[0m         \u001b[1;31m# open handles\u001b[0m\u001b[1;33m\u001b[0m\u001b[1;33m\u001b[0m\u001b[1;33m\u001b[0m\u001b[0m\n\u001b[1;32m-> 1867\u001b[1;33m         \u001b[0mself\u001b[0m\u001b[1;33m.\u001b[0m\u001b[0m_open_handles\u001b[0m\u001b[1;33m(\u001b[0m\u001b[0msrc\u001b[0m\u001b[1;33m,\u001b[0m \u001b[0mkwds\u001b[0m\u001b[1;33m)\u001b[0m\u001b[1;33m\u001b[0m\u001b[1;33m\u001b[0m\u001b[0m\n\u001b[0m\u001b[0;32m   1868\u001b[0m         \u001b[1;32massert\u001b[0m \u001b[0mself\u001b[0m\u001b[1;33m.\u001b[0m\u001b[0mhandles\u001b[0m \u001b[1;32mis\u001b[0m \u001b[1;32mnot\u001b[0m \u001b[1;32mNone\u001b[0m\u001b[1;33m\u001b[0m\u001b[1;33m\u001b[0m\u001b[0m\n\u001b[0;32m   1869\u001b[0m         \u001b[1;32mfor\u001b[0m \u001b[0mkey\u001b[0m \u001b[1;32min\u001b[0m \u001b[1;33m(\u001b[0m\u001b[1;34m\"storage_options\"\u001b[0m\u001b[1;33m,\u001b[0m \u001b[1;34m\"encoding\"\u001b[0m\u001b[1;33m,\u001b[0m \u001b[1;34m\"memory_map\"\u001b[0m\u001b[1;33m,\u001b[0m \u001b[1;34m\"compression\"\u001b[0m\u001b[1;33m)\u001b[0m\u001b[1;33m:\u001b[0m\u001b[1;33m\u001b[0m\u001b[1;33m\u001b[0m\u001b[0m\n",
      "\u001b[1;32m~\\anaconda3\\lib\\site-packages\\pandas\\io\\parsers.py\u001b[0m in \u001b[0;36m_open_handles\u001b[1;34m(self, src, kwds)\u001b[0m\n\u001b[0;32m   1360\u001b[0m         \u001b[0mLet\u001b[0m \u001b[0mthe\u001b[0m \u001b[0mreaders\u001b[0m \u001b[0mopen\u001b[0m \u001b[0mIOHanldes\u001b[0m \u001b[0mafter\u001b[0m \u001b[0mthey\u001b[0m \u001b[0mare\u001b[0m \u001b[0mdone\u001b[0m \u001b[1;32mwith\u001b[0m \u001b[0mtheir\u001b[0m \u001b[0mpotential\u001b[0m \u001b[0mraises\u001b[0m\u001b[1;33m.\u001b[0m\u001b[1;33m\u001b[0m\u001b[1;33m\u001b[0m\u001b[0m\n\u001b[0;32m   1361\u001b[0m         \"\"\"\n\u001b[1;32m-> 1362\u001b[1;33m         self.handles = get_handle(\n\u001b[0m\u001b[0;32m   1363\u001b[0m             \u001b[0msrc\u001b[0m\u001b[1;33m,\u001b[0m\u001b[1;33m\u001b[0m\u001b[1;33m\u001b[0m\u001b[0m\n\u001b[0;32m   1364\u001b[0m             \u001b[1;34m\"r\"\u001b[0m\u001b[1;33m,\u001b[0m\u001b[1;33m\u001b[0m\u001b[1;33m\u001b[0m\u001b[0m\n",
      "\u001b[1;32m~\\anaconda3\\lib\\site-packages\\pandas\\io\\common.py\u001b[0m in \u001b[0;36mget_handle\u001b[1;34m(path_or_buf, mode, encoding, compression, memory_map, is_text, errors, storage_options)\u001b[0m\n\u001b[0;32m    640\u001b[0m                 \u001b[0merrors\u001b[0m \u001b[1;33m=\u001b[0m \u001b[1;34m\"replace\"\u001b[0m\u001b[1;33m\u001b[0m\u001b[1;33m\u001b[0m\u001b[0m\n\u001b[0;32m    641\u001b[0m             \u001b[1;31m# Encoding\u001b[0m\u001b[1;33m\u001b[0m\u001b[1;33m\u001b[0m\u001b[1;33m\u001b[0m\u001b[0m\n\u001b[1;32m--> 642\u001b[1;33m             handle = open(\n\u001b[0m\u001b[0;32m    643\u001b[0m                 \u001b[0mhandle\u001b[0m\u001b[1;33m,\u001b[0m\u001b[1;33m\u001b[0m\u001b[1;33m\u001b[0m\u001b[0m\n\u001b[0;32m    644\u001b[0m                 \u001b[0mioargs\u001b[0m\u001b[1;33m.\u001b[0m\u001b[0mmode\u001b[0m\u001b[1;33m,\u001b[0m\u001b[1;33m\u001b[0m\u001b[1;33m\u001b[0m\u001b[0m\n",
      "\u001b[1;31mFileNotFoundError\u001b[0m: [Errno 2] No such file or directory: './train_bic.csv'"
     ]
    }
   ],
   "source": [
    "train = pd.read_csv('./train_bic.csv', encoding='utf-8')\n",
    "train.head()"
   ]
  },
  {
   "cell_type": "code",
   "execution_count": null,
   "id": "43cb721c",
   "metadata": {},
   "outputs": [],
   "source": [
    "test = pd.read_csv('./test_bic.csv', encoding='utf-8')\n",
    "test.head()"
   ]
  },
  {
   "cell_type": "markdown",
   "id": "95094b45",
   "metadata": {},
   "source": [
    "# 결측치 채우기"
   ]
  },
  {
   "cell_type": "code",
   "execution_count": null,
   "id": "7ff8ad33",
   "metadata": {},
   "outputs": [],
   "source": [
    "## 결측치를 확인하고 결측치 채우기 (simple imputer 이용)\n",
    "train.info()\n",
    "print(train.isnull().sum())\n",
    "print(train[train['hour_bef_pm2.5'].isnull()])\n",
    "\n",
    "test.info()\n",
    "print(test.isnull().sum())\n",
    "print(test[test['hour_bef_pm2.5'].isnull()])"
   ]
  },
  {
   "cell_type": "code",
   "execution_count": null,
   "id": "b75722c6",
   "metadata": {},
   "outputs": [],
   "source": [
    "from sklearn.impute import SimpleImputer\n",
    "si = SimpleImputer(strategy='mean')\n",
    "imputed_df = si.fit_transform(train)\n",
    "train = pd.DataFrame(imputed_df, columns = train.columns)\n",
    "\n",
    "# si = SimpleImputer(strategy='mean')\n",
    "imputed_df2 = si.fit_transform(test)\n",
    "test = pd.DataFrame(imputed_df2, columns = test.columns)"
   ]
  },
  {
   "cell_type": "code",
   "execution_count": null,
   "id": "0d404e2b",
   "metadata": {},
   "outputs": [],
   "source": [
    "## 컬럼간 상관관계 확인하기\n",
    "train.corr()\n",
    "train.corr()[np.abs(train.corr())>=0.3]\n",
    "sns.heatmap(train.corr()[np.abs(train.corr())>=0.3], annot=True)"
   ]
  },
  {
   "cell_type": "code",
   "execution_count": null,
   "id": "64507ab1",
   "metadata": {},
   "outputs": [],
   "source": [
    "test.corr()\n",
    "test.corr()[np.abs(test.corr())>=0.3]\n",
    "sns.heatmap(test.corr()[np.abs(test.corr())>=0.3], annot=True)"
   ]
  },
  {
   "cell_type": "markdown",
   "id": "1b9c18d6",
   "metadata": {},
   "source": [
    "train에서는 id는 상관관계가 없기 때문에 삭제하고 진행 \n",
    "강수량은 상관관계가 낮으나 test에서는 상관관계가 존재하므로 삭제 안함\n",
    "test는 id만 삭제하고 진행"
   ]
  },
  {
   "cell_type": "markdown",
   "id": "de678e2d",
   "metadata": {},
   "source": [
    "# 모델링을 위한 데이터 분리 및 모델링"
   ]
  },
  {
   "cell_type": "code",
   "execution_count": null,
   "id": "97d161ea",
   "metadata": {},
   "outputs": [],
   "source": [
    "X_train = train.drop(columns=['id', 'count'], axis=1)\n",
    "y_train = train['count']\n",
    "X_test = test.drop(columns=['id'], axis=1)\n",
    "\n",
    "print(X_train.shape, y_train.shape)\n",
    "print(X_test.shape)"
   ]
  },
  {
   "cell_type": "code",
   "execution_count": null,
   "id": "25100a77",
   "metadata": {},
   "outputs": [],
   "source": [
    "### 앙상블 모델링 진행하기\n",
    "from sklearn.ensemble import AdaBoostRegressor\n",
    "from sklearn.ensemble import GradientBoostingRegressor\n",
    "from sklearn.ensemble import RandomForestRegressor\n",
    "import xgboost as xgb\n",
    "import lightgbm as lgb\n",
    "from sklearn.metrics import *\n",
    "from sklearn.model_selection import GridSearchCV, RandomizedSearchCV\n",
    "\n",
    "abc = AdaBoostRegressor(random_state=100)\n",
    "gbc = GradientBoostingRegressor(random_state=100)\n",
    "rf = RandomForestRegressor(random_state=100)\n",
    "xgb = xgb.XGBRegressor(random_state=100)\n",
    "lgb = lgb.LGBMRegressor(random_state=100, boosting_type = 'gbdt')\n",
    "\n",
    "# help(RandomForestRegressor)"
   ]
  },
  {
   "cell_type": "code",
   "execution_count": null,
   "id": "0a52467c",
   "metadata": {},
   "outputs": [],
   "source": [
    "######### \n",
    "param_grid_abc = {\n",
    "    'n_estimators': [1, 10, 50, 100],\n",
    "    'loss': ['linear', 'square', 'exponential'],\n",
    "    'learning_rate': [0.1, 0.2, 0.5, 0.8, 1.0],\n",
    "}\n",
    "\n",
    "grid_search_abc = GridSearchCV(abc, param_grid=param_grid_abc, cv=10, n_jobs=-1)\n",
    "grid_search_abc.fit(X_train, y_train)\n",
    "print(grid_search_abc.best_estimator_)  #AdaBoostRegressor(learning_rate=0.1, n_estimators=100, random_state=100)\n",
    "\n",
    "best_param_abc_gs = grid_search_abc.best_estimator_\n",
    "pred_abc_gs = best_param_abc_gs.predict(X_test)"
   ]
  },
  {
   "cell_type": "code",
   "execution_count": null,
   "id": "c086ce63",
   "metadata": {},
   "outputs": [],
   "source": [
    "param_grid_rf = {\n",
    "    'max_depth': [None, 1, 10, 15, 20],\n",
    "    'max_leaf_nodes': [2],\n",
    "    'criterion':[\"mse\"],\n",
    "    'n_estimators': [1, 10, 50, 100, 150, 200],\n",
    "    'min_samples_split':[2,3,4,8,10],\n",
    "}\n",
    "param_grid_rf = GridSearchCV(rf, param_grid=param_grid_rf, cv=10, n_jobs=-1)\n",
    "param_grid_rf.fit(X_train, y_train)\n",
    "print(param_grid_rf.best_estimator_) #RandomForestRegressor(max_leaf_nodes=2, n_estimators=150, random_state=100)\n",
    "\n",
    "best_param_rf_gs = param_grid_rf.best_estimator_\n",
    "pred_rf_gs = best_param_rf_gs.predict(X_test)"
   ]
  },
  {
   "cell_type": "code",
   "execution_count": null,
   "id": "a7faf239",
   "metadata": {},
   "outputs": [],
   "source": [
    "param_grid_gbc = {\n",
    "    'n_estimators': [1, 10, 50, 100],\n",
    "    'learning_rate': [0, 0.1, 0.2, 0.5, 0.8, 1.0],\n",
    "    'criterion':[\"mse\"],\n",
    "    'max_depth':[None, 10, 20, 30, 50],\n",
    "    'min_samples_split':[2,3,4,8,10],\n",
    "}\n",
    "\n",
    "param_grid_gbc = GridSearchCV(gbc, param_grid=param_grid_gbc, cv=10, n_jobs=-1)\n",
    "param_grid_gbc.fit(X_train, y_train)\n",
    "print(param_grid_gbc.best_estimator_) #GradientBoostingRegressor(criterion='mse', max_depth=10, min_samples_split=10, random_state=100)\n",
    "\n",
    "best_param_gbc_gs = param_grid_gbc.best_estimator_ \n",
    "pred_gbc_gs = best_param_gbc_gs.predict(X_test)"
   ]
  },
  {
   "cell_type": "code",
   "execution_count": null,
   "id": "67b35285",
   "metadata": {},
   "outputs": [],
   "source": [
    "param_grid_xgb = {\n",
    "    'max_depth': [None, 1, 10, 15, 20],\n",
    "    'n_estimators': [1, 10, 50, 100],\n",
    "#    'alpha': [0.001, 0.01, 0.1, 1],\n",
    "#    'lambda': [0.001, 0.01, 0.1, 1],\n",
    "    'learning_rate': [0, 0.1, 0.2, 0.5, 0.8, 1.0],\n",
    "    'eval_metric': ['rmse'],\n",
    "    'booster': ['gbtree'],\n",
    "}\n",
    "param_grid_xgb = GridSearchCV(xgb, param_grid=param_grid_xgb, cv=10, n_jobs=-1)\n",
    "param_grid_xgb.fit(X_train, y_train)\n",
    "print(param_grid_xgb.best_estimator_)\n",
    "            # XGBRegressor(booster='gbtree', eval_metric='rmse', learning_rate=0.1, max_depth=6, n_estimators=100, random_state=100, \n",
    "            #              reg_alpha=0, reg_lambda=1)\n",
    "        \n",
    "best_param_xgb_gs = param_grid_xgb.best_estimator_\n",
    "pred_xgb_gs = best_param_xgb_gs.predict(X_test)"
   ]
  },
  {
   "cell_type": "code",
   "execution_count": null,
   "id": "84b0603e",
   "metadata": {},
   "outputs": [],
   "source": [
    "param_grid_lgb = {\n",
    "    'max_depth': [-1, 1, 5, 10, 15, 20],\n",
    "    'n_estimators': [1, 9, 10, 50, 100],\n",
    "#    'alpha': [0.001, 0.01, 0.1, 1],\n",
    "#    'lambda': [0.001, 0.01, 0.1, 1],\n",
    "    'learning_rate': [0.1, 0.2, 0.5, 0.8, 1.0],\n",
    "    \n",
    "}\n",
    "param_grid_lgb = GridSearchCV(lgb, param_grid=param_grid_lgb, cv=10, n_jobs=-1)\n",
    "param_grid_lgb.fit(X_train, y_train)\n",
    "print(param_grid_lgb.best_estimator_)  #LGBMRegressor(max_depth=10, random_state=100)\n",
    "\n",
    "best_param_lgb_gs = param_grid_lgb.best_estimator_\n",
    "pred_lgb_gs = best_param_lgb_gs.predict(X_test)"
   ]
  },
  {
   "cell_type": "markdown",
   "id": "7fc1d4ff",
   "metadata": {},
   "source": [
    "# 성능 평가 비교"
   ]
  },
  {
   "cell_type": "code",
   "execution_count": null,
   "id": "f591746b",
   "metadata": {},
   "outputs": [],
   "source": [
    "print('AdaBoost score: {:.3f}'.format(best_param_abc_gs.score(X_train, y_train)))\n",
    "print('Random Forest score: {:.3f}'.format(best_param_rf_gs.score(X_train, y_train)))  \n",
    "print('Gradient Boosting score: {:.3f}'.format(best_param_gbc_gs.score(X_train, y_train))) \n",
    "print('XGBoost score: {:.3f}'.format(best_param_xgb_gs.score(X_train, y_train))) \n",
    "print('LightGBM score: {:.3f}'.format(best_param_lgb_gs.score(X_train, y_train)))  "
   ]
  },
  {
   "cell_type": "code",
   "execution_count": null,
   "id": "108618f6",
   "metadata": {},
   "outputs": [],
   "source": [
    "sns.kdeplot(y_train, label = 'real_y_train')\n",
    "sns.kdeplot(pred_abc_gs, label = 'grid_pred_abc')\n",
    "sns.kdeplot(pred_rf_gs, label = 'grid_pred_rf')\n",
    "sns.kdeplot(pred_gbc_gs, label = 'grid_pred_gbc')\n",
    "sns.kdeplot(pred_xgb_gs, label = 'grid_pred_xgb')\n",
    "sns.kdeplot(pred_lgb_gs, label = 'grid_pred_lgb')\n",
    "plt.title('modeling result comparision', fontsize =16)\n",
    "plt.legend()\n",
    "plt.show()"
   ]
  },
  {
   "cell_type": "code",
   "execution_count": null,
   "id": "657fd52d",
   "metadata": {},
   "outputs": [],
   "source": [
    "best_model = pd.DataFrame(columns = ['name', 'score'])"
   ]
  },
  {
   "cell_type": "code",
   "execution_count": null,
   "id": "4e6cf027",
   "metadata": {},
   "outputs": [],
   "source": [
    "model_nm = ['Ada', 'Gradient', 'Random Forest', 'XGB', 'LGBM']\n",
    "model_score = [best_param_abc_gs.score(X_train, y_train), best_param_gbc_gs.score(X_train, y_train),\n",
    "              best_param_rf_gs.score(X_train, y_train), best_param_xgb_gs.score(X_train, y_train),\n",
    "              best_param_lgb_gs.score(X_train, y_train)]\n",
    "best_model['name'] = model_nm \n",
    "best_model['score'] = model_score"
   ]
  },
  {
   "cell_type": "code",
   "execution_count": null,
   "id": "77283266",
   "metadata": {},
   "outputs": [],
   "source": [
    "best_model"
   ]
  },
  {
   "cell_type": "code",
   "execution_count": null,
   "id": "d7b17891",
   "metadata": {
    "scrolled": false
   },
   "outputs": [],
   "source": [
    "sns.barplot(data = best_model.sort_values(by = 'score', ascending=False), x='score', y = 'name')\n",
    "sns.despine(left=True, bottom=True)\n",
    "plt.title('Final Modeling Score Comparison', fontsize = 14)\n",
    "plt.ylabel(None)\n",
    "plt.show()"
   ]
  },
  {
   "cell_type": "markdown",
   "id": "c13cf325",
   "metadata": {},
   "source": [
    "# 컬럼별 중요도 막대그래프"
   ]
  },
  {
   "cell_type": "code",
   "execution_count": null,
   "id": "a6213c42",
   "metadata": {},
   "outputs": [],
   "source": [
    "col_imp1 = pd.DataFrame(best_param_abc_gs.feature_importances_, index = X_train.columns, columns = ['value']).sort_values(by='value', ascending=False)\n",
    "plt.figure(figsize=(10,10))\n",
    "sns.barplot(col_imp1.index, col_imp1['value'])\n",
    "plt.title('Ada Boosting Features Importance', fontsize=15)\n",
    "plt.xticks(rotation=45)"
   ]
  },
  {
   "cell_type": "code",
   "execution_count": null,
   "id": "19ef7870",
   "metadata": {},
   "outputs": [],
   "source": [
    "col_imp2 = pd.DataFrame(best_param_rf_gs.feature_importances_, index = X_train.columns, columns = ['value']).sort_values(by='value', ascending=False)\n",
    "plt.figure(figsize=(10,10))\n",
    "sns.barplot(col_imp2.index, col_imp2['value'])\n",
    "plt.title('Random Forest Features Importance', fontsize=15)\n",
    "plt.xticks(rotation=45)"
   ]
  },
  {
   "cell_type": "code",
   "execution_count": null,
   "id": "89dd7cd0",
   "metadata": {},
   "outputs": [],
   "source": [
    "col_imp3 = pd.DataFrame(best_param_gbc_gs.feature_importances_, index = X_train.columns, columns = ['value']).sort_values(by='value', ascending=False)\n",
    "plt.figure(figsize=(10,10))\n",
    "sns.barplot(col_imp3.index, col_imp3['value'])\n",
    "plt.title('Gradient Boosting Features Importance', fontsize=15)\n",
    "plt.xticks(rotation=45)"
   ]
  },
  {
   "cell_type": "code",
   "execution_count": null,
   "id": "8a5f187c",
   "metadata": {},
   "outputs": [],
   "source": [
    "col_imp4 = pd.DataFrame(best_param_xgb_gs.feature_importances_, index = X_train.columns, columns = ['value']).sort_values(by='value', ascending=False)\n",
    "plt.figure(figsize=(10,10))\n",
    "sns.barplot(col_imp4.index, col_imp4['value'])\n",
    "plt.title('XGBoost Features Importance', fontsize=15)\n",
    "plt.xticks(rotation=45)"
   ]
  },
  {
   "cell_type": "code",
   "execution_count": null,
   "id": "ceccb072",
   "metadata": {},
   "outputs": [],
   "source": [
    "col_imp5 = pd.DataFrame(best_param_lgb_gs.feature_importances_, index = X_train.columns, columns = ['value']).sort_values(by='value', ascending=False)\n",
    "plt.figure(figsize=(10,10))\n",
    "sns.barplot(col_imp5.index, col_imp5['value'])\n",
    "plt.title('Light GBM Features Importance', fontsize=15)\n",
    "plt.xticks(rotation=45)"
   ]
  },
  {
   "cell_type": "code",
   "execution_count": null,
   "id": "577f4982",
   "metadata": {},
   "outputs": [],
   "source": []
  }
 ],
 "metadata": {
  "kernelspec": {
   "display_name": "Python 3",
   "language": "python",
   "name": "python3"
  },
  "language_info": {
   "codemirror_mode": {
    "name": "ipython",
    "version": 3
   },
   "file_extension": ".py",
   "mimetype": "text/x-python",
   "name": "python",
   "nbconvert_exporter": "python",
   "pygments_lexer": "ipython3",
   "version": "3.8.8"
  },
  "toc": {
   "base_numbering": 1,
   "nav_menu": {},
   "number_sections": true,
   "sideBar": true,
   "skip_h1_title": false,
   "title_cell": "Table of Contents",
   "title_sidebar": "Contents",
   "toc_cell": false,
   "toc_position": {},
   "toc_section_display": true,
   "toc_window_display": false
  }
 },
 "nbformat": 4,
 "nbformat_minor": 5
}
